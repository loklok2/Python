{
 "cells": [
  {
   "cell_type": "markdown",
   "id": "4c57a530-d6be-4703-ada4-e4df73d3fb4b",
   "metadata": {},
   "source": [
    "# 제목1\n",
    "## 제목 2\n",
    "### 제목 3\n",
    "\n",
    "* 하나\n",
    "* 둘\n",
    "* 셋\n",
    "\n",
    "> 중요합니다"
   ]
  },
  {
   "cell_type": "markdown",
   "id": "98087c09-be90-40de-ab74-e07d7c5f4615",
   "metadata": {},
   "source": [
    "# 2.NumPy"
   ]
  },
  {
   "cell_type": "code",
   "execution_count": 1,
   "id": "a0985028-c695-4556-b3d6-f03611a58d39",
   "metadata": {},
   "outputs": [
    {
     "data": {
      "text/plain": [
       "'1.26.4'"
      ]
     },
     "execution_count": 1,
     "metadata": {},
     "output_type": "execute_result"
    }
   ],
   "source": [
    "import numpy\n",
    "numpy.__version__"
   ]
  },
  {
   "cell_type": "code",
   "execution_count": 2,
   "id": "dc82fd34-afcc-419b-bf29-a9a4efbc24e4",
   "metadata": {},
   "outputs": [],
   "source": [
    "import numpy as np"
   ]
  },
  {
   "cell_type": "code",
   "execution_count": 3,
   "id": "338af335-a9a7-4640-a563-719447bed443",
   "metadata": {},
   "outputs": [
    {
     "data": {
      "text/plain": [
       "(0, int)"
      ]
     },
     "execution_count": 3,
     "metadata": {},
     "output_type": "execute_result"
    }
   ],
   "source": [
    "result = 0\n",
    "result, type(result)"
   ]
  },
  {
   "cell_type": "code",
   "execution_count": 4,
   "id": "1c0578dc-05fe-4cca-af4c-509b052a0e7f",
   "metadata": {},
   "outputs": [
    {
     "data": {
      "text/plain": [
       "('hello', str)"
      ]
     },
     "execution_count": 4,
     "metadata": {},
     "output_type": "execute_result"
    }
   ],
   "source": [
    "result = 'hello'\n",
    "result, type(result)"
   ]
  },
  {
   "cell_type": "code",
   "execution_count": 5,
   "id": "7cc8e436-63c4-4f67-9bc9-ab47f9659326",
   "metadata": {},
   "outputs": [
    {
     "data": {
      "text/plain": [
       "([1, 2, 3], list)"
      ]
     },
     "execution_count": 5,
     "metadata": {},
     "output_type": "execute_result"
    }
   ],
   "source": [
    "result = [1,2,3]\n",
    "result, type(result)"
   ]
  },
  {
   "cell_type": "code",
   "execution_count": 6,
   "id": "f31e8cfa-82a6-45fa-bdf3-e09d6a389919",
   "metadata": {},
   "outputs": [
    {
     "data": {
      "text/plain": [
       "(3, builtin_function_or_method)"
      ]
     },
     "execution_count": 6,
     "metadata": {},
     "output_type": "execute_result"
    }
   ],
   "source": [
    "result = max\n",
    "result([1,2,3]), type(result)"
   ]
  },
  {
   "cell_type": "code",
   "execution_count": 7,
   "id": "78c5d129-b80c-4982-bdfa-bada7bbb5140",
   "metadata": {},
   "outputs": [],
   "source": [
    "def add(x, y)->int:\n",
    "    return x+y"
   ]
  },
  {
   "cell_type": "code",
   "execution_count": 8,
   "id": "e3a45adb-8beb-44b3-8139-79acf5c7a708",
   "metadata": {},
   "outputs": [
    {
     "data": {
      "text/plain": [
       "4"
      ]
     },
     "execution_count": 8,
     "metadata": {},
     "output_type": "execute_result"
    }
   ],
   "source": [
    "add(1,3)"
   ]
  },
  {
   "cell_type": "code",
   "execution_count": 9,
   "id": "6f004559-3d76-42df-ae92-9e4bcc4a6c37",
   "metadata": {},
   "outputs": [
    {
     "ename": "TypeError",
     "evalue": "unsupported operand type(s) for +: 'int' and 'str'",
     "output_type": "error",
     "traceback": [
      "\u001b[1;31m---------------------------------------------------------------------------\u001b[0m",
      "\u001b[1;31mTypeError\u001b[0m                                 Traceback (most recent call last)",
      "Cell \u001b[1;32mIn[9], line 1\u001b[0m\n\u001b[1;32m----> 1\u001b[0m \u001b[43madd\u001b[49m\u001b[43m(\u001b[49m\u001b[38;5;241;43m1\u001b[39;49m\u001b[43m,\u001b[49m\u001b[43m \u001b[49m\u001b[38;5;124;43m\"\u001b[39;49m\u001b[38;5;124;43mhello\u001b[39;49m\u001b[38;5;124;43m\"\u001b[39;49m\u001b[43m)\u001b[49m\n",
      "Cell \u001b[1;32mIn[7], line 2\u001b[0m, in \u001b[0;36madd\u001b[1;34m(x, y)\u001b[0m\n\u001b[0;32m      1\u001b[0m \u001b[38;5;28;01mdef\u001b[39;00m \u001b[38;5;21madd\u001b[39m(x, y)\u001b[38;5;241m-\u001b[39m\u001b[38;5;241m>\u001b[39m\u001b[38;5;28mint\u001b[39m:\n\u001b[1;32m----> 2\u001b[0m     \u001b[38;5;28;01mreturn\u001b[39;00m \u001b[43mx\u001b[49m\u001b[38;5;241;43m+\u001b[39;49m\u001b[43my\u001b[49m\n",
      "\u001b[1;31mTypeError\u001b[0m: unsupported operand type(s) for +: 'int' and 'str'"
     ]
    }
   ],
   "source": [
    "add(1, \"hello\")"
   ]
  },
  {
   "cell_type": "code",
   "execution_count": 10,
   "id": "3b49943a-631a-4cfa-bdeb-480ee7453b68",
   "metadata": {},
   "outputs": [
    {
     "data": {
      "text/plain": [
       "[1, 'hello', <function max>, range(0, 100)]"
      ]
     },
     "execution_count": 10,
     "metadata": {},
     "output_type": "execute_result"
    }
   ],
   "source": [
    "lst = [1, \"hello\", max, range(100)]\n",
    "lst"
   ]
  },
  {
   "cell_type": "markdown",
   "id": "20ee024d-81af-4fc3-ae4e-6d7e07a6b1fd",
   "metadata": {},
   "source": [
    "### 파이선 고정타입 배열"
   ]
  },
  {
   "cell_type": "code",
   "execution_count": 11,
   "id": "eab7a9ef-63b9-45a7-a999-7b841ff0dddd",
   "metadata": {},
   "outputs": [
    {
     "data": {
      "text/plain": [
       "array('i', [0, 1, 2, 3, 4, 5, 6, 7, 8, 9])"
      ]
     },
     "execution_count": 11,
     "metadata": {},
     "output_type": "execute_result"
    }
   ],
   "source": [
    "import array\n",
    "L = list(range(10))\n",
    "A = array.array('i', L)\n",
    "A"
   ]
  },
  {
   "cell_type": "markdown",
   "id": "02318ed4-01ce-4119-a2a0-4bc77e427b59",
   "metadata": {},
   "source": [
    "### 파이썬 리스트에서 배열만들기\n",
    "* Numpy는 배열의 모든 요소가 같은 type 이어야 한다\n",
    "* Numpy는 가능한 경우 사우이 타입을 취한다(정수는 상위 타입은 부동 소수점으로 변환)\n",
    "* 명시적으로 결과 배열의 타입을 설정하려면 dtype 사용!\n",
    "* 그리고 파이썬 리스트와 다르게 Numpy는 명시적으로 다차원이 가능함"
   ]
  },
  {
   "cell_type": "code",
   "execution_count": 12,
   "id": "cd11bdbf-6d5f-4043-887d-a940e4220787",
   "metadata": {},
   "outputs": [],
   "source": [
    "import numpy as np"
   ]
  },
  {
   "cell_type": "code",
   "execution_count": 13,
   "id": "5efba755-7e4a-49dc-847f-ab6ddbd13779",
   "metadata": {},
   "outputs": [
    {
     "data": {
      "text/plain": [
       "array([1, 4, 2, 5, 3])"
      ]
     },
     "execution_count": 13,
     "metadata": {},
     "output_type": "execute_result"
    }
   ],
   "source": [
    "# 정수배열\n",
    "np.array([1,4,2,5,3])"
   ]
  },
  {
   "cell_type": "code",
   "execution_count": 14,
   "id": "fbe3537e-48bb-4951-b0b7-7a4d56a06dcc",
   "metadata": {},
   "outputs": [
    {
     "data": {
      "text/plain": [
       "array([3.14, 4.  , 2.  , 3.  ])"
      ]
     },
     "execution_count": 14,
     "metadata": {},
     "output_type": "execute_result"
    }
   ],
   "source": [
    "np.array([3.14,4,2,3])"
   ]
  },
  {
   "cell_type": "code",
   "execution_count": 15,
   "id": "245fa9d8-1cc9-40a5-b9e0-96b32c7b300d",
   "metadata": {},
   "outputs": [
    {
     "data": {
      "text/plain": [
       "array([1., 2., 3., 4.], dtype=float32)"
      ]
     },
     "execution_count": 15,
     "metadata": {},
     "output_type": "execute_result"
    }
   ],
   "source": [
    "np.array([1,2,3,4,], dtype='float32')"
   ]
  },
  {
   "cell_type": "code",
   "execution_count": 16,
   "id": "8f79a90a-8264-4e0c-ae34-c8c2a38ce486",
   "metadata": {},
   "outputs": [
    {
     "data": {
      "text/plain": [
       "array([[2, 3, 4],\n",
       "       [4, 5, 6],\n",
       "       [6, 7, 8]])"
      ]
     },
     "execution_count": 16,
     "metadata": {},
     "output_type": "execute_result"
    }
   ],
   "source": [
    "# 리스트를 중첩하면 다차원 배열이 됨\n",
    "np.array([range(i,i+3) for i in [2,4,6]])"
   ]
  },
  {
   "cell_type": "markdown",
   "id": "bc77ce73-3287-4325-9fc8-2eabba930cdf",
   "metadata": {},
   "source": [
    "### 처음부터 배열 만들기\n",
    "* 규모가 큰 배열의 경우에는 Numpy에 내장된 루틴을 사용해서 처음부터 배열을 생성하는것이 더 효율적"
   ]
  },
  {
   "cell_type": "code",
   "execution_count": 17,
   "id": "22a3e7e5-e88d-49b4-a4a2-a29f491e0322",
   "metadata": {},
   "outputs": [
    {
     "data": {
      "text/plain": [
       "array([0, 0, 0, 0, 0, 0, 0, 0, 0, 0])"
      ]
     },
     "execution_count": 17,
     "metadata": {},
     "output_type": "execute_result"
    }
   ],
   "source": [
    "# 0으로 채운 길이 10의 정수 배열 만들기\n",
    "np.zeros(10, dtype = int)"
   ]
  },
  {
   "cell_type": "code",
   "execution_count": 18,
   "id": "266a3a34-304e-4ec7-8802-f1e963d98b70",
   "metadata": {},
   "outputs": [
    {
     "data": {
      "text/plain": [
       "array([[1., 1., 1., 1., 1.],\n",
       "       [1., 1., 1., 1., 1.],\n",
       "       [1., 1., 1., 1., 1.]])"
      ]
     },
     "execution_count": 18,
     "metadata": {},
     "output_type": "execute_result"
    }
   ],
   "source": [
    "# 1로 채운 3x5 부동 소수점 배열 만들기\n",
    "np.ones((3,5), dtype = float)"
   ]
  },
  {
   "cell_type": "code",
   "execution_count": 19,
   "id": "dd880646-52c3-48d3-88ba-6ccc4a0a7006",
   "metadata": {},
   "outputs": [
    {
     "data": {
      "text/plain": [
       "array([[3.14, 3.14, 3.14, 3.14, 3.14],\n",
       "       [3.14, 3.14, 3.14, 3.14, 3.14],\n",
       "       [3.14, 3.14, 3.14, 3.14, 3.14]])"
      ]
     },
     "execution_count": 19,
     "metadata": {},
     "output_type": "execute_result"
    }
   ],
   "source": [
    "# 3.14로 채운 3x5 배열 만들기\n",
    "np.full((3,5), 3.14)"
   ]
  },
  {
   "cell_type": "code",
   "execution_count": 20,
   "id": "eca05a66-22f4-4f72-8c42-004ec75ec49b",
   "metadata": {},
   "outputs": [
    {
     "data": {
      "text/plain": [
       "array([ 0,  2,  4,  6,  8, 10, 12, 14, 16, 18])"
      ]
     },
     "execution_count": 20,
     "metadata": {},
     "output_type": "execute_result"
    }
   ],
   "source": [
    "# 선형 수열로 채운 배열 만들기\n",
    "# 0에서 시작해 2씩 더해 20까지 채움\n",
    "# (내장함수인 range()와 유사함\n",
    "np.arange(0, 20, 2)"
   ]
  },
  {
   "cell_type": "code",
   "execution_count": 21,
   "id": "6f6d5a36-06cd-4485-9fb1-d7748882fff4",
   "metadata": {},
   "outputs": [
    {
     "data": {
      "text/plain": [
       "array([ 0.,  1.,  2.,  3.,  4.,  5.,  6.,  7.,  8.,  9., 10.])"
      ]
     },
     "execution_count": 21,
     "metadata": {},
     "output_type": "execute_result"
    }
   ],
   "source": [
    "# 0과 1사이에 일정한 간격을 가진 다섯 개의 값으로 채운 배열 만들기\n",
    "np.linspace(0, 10, 11)\n",
    "# x축을 만들때 자주 쓴다!!"
   ]
  },
  {
   "cell_type": "code",
   "execution_count": 29,
   "id": "81482910-c260-4313-bb8e-8e67debfcacb",
   "metadata": {},
   "outputs": [
    {
     "data": {
      "text/plain": [
       "array([[0.09293981, 0.11869039, 0.96210767],\n",
       "       [0.54342497, 0.78422283, 0.91835348],\n",
       "       [0.46853285, 0.48138817, 0.3717704 ]])"
      ]
     },
     "execution_count": 29,
     "metadata": {},
     "output_type": "execute_result"
    }
   ],
   "source": [
    "# 균등하게 분포된 3x3 배열 만들기\n",
    "# 0과 1사이의 난수로 채움\n",
    "np.random.random((3,3))"
   ]
  },
  {
   "cell_type": "code",
   "execution_count": 23,
   "id": "bf1d03dd-92dd-453d-9e2e-f04906f7b932",
   "metadata": {},
   "outputs": [],
   "source": [
    "color_image = np.random.random((32,3, 224, 224))"
   ]
  },
  {
   "cell_type": "code",
   "execution_count": 24,
   "id": "e3f96e09-487a-4ddb-a927-fb980534d3c2",
   "metadata": {},
   "outputs": [
    {
     "data": {
      "text/plain": [
       "((32, 3, 224, 224), 4816896)"
      ]
     },
     "execution_count": 24,
     "metadata": {},
     "output_type": "execute_result"
    }
   ],
   "source": [
    "color_image.shape, color_image.size"
   ]
  },
  {
   "cell_type": "code",
   "execution_count": 25,
   "id": "4a4dcff5-f9ab-4f8b-bbb2-f8db93e76f4b",
   "metadata": {},
   "outputs": [],
   "source": [
    "import matplotlib.pyplot as plt"
   ]
  },
  {
   "cell_type": "code",
   "execution_count": 30,
   "id": "6bd192d8-9b6e-4905-be31-dd8fd4458a0c",
   "metadata": {
    "scrolled": true
   },
   "outputs": [
    {
     "data": {
      "text/plain": [
       "(array([482296., 482357., 483425., 481027., 481788., 481716., 480001.,\n",
       "        481321., 481357., 481608.]),\n",
       " array([3.55572083e-07, 1.00000309e-01, 2.00000263e-01, 3.00000217e-01,\n",
       "        4.00000171e-01, 5.00000125e-01, 6.00000078e-01, 7.00000032e-01,\n",
       "        7.99999986e-01, 8.99999940e-01, 9.99999893e-01]),\n",
       " <BarContainer object of 10 artists>)"
      ]
     },
     "execution_count": 30,
     "metadata": {},
     "output_type": "execute_result"
    },
    {
     "data": {
      "image/png": "[encoded data removed]",
      "text/plain": [
       "<Figure size 640x480 with 1 Axes>"
      ]
     },
     "metadata": {},
     "output_type": "display_data"
    }
   ],
   "source": [
    "plt.hist(color_image.flatten())"
   ]
  },
  {
   "cell_type": "code",
   "execution_count": null,
   "id": "d0deb3b6-81ac-43b8-8809-e135f4873764",
   "metadata": {},
   "outputs": [],
   "source": [
    "#정규분포(평균=0, 표준편차=1)의 난수로 채운 3x3 배열 만들기\n",
    "np.random.normal(0, 1, (3,3))"
   ]
  },
  {
   "cell_type": "code",
   "execution_count": null,
   "id": "5bd66c6d-249e-402f-9b0c-be54bc3ef636",
   "metadata": {},
   "outputs": [],
   "source": [
    "# [0, 10] 구간의 임의의 정수로 채운 3x3 배열 만들기\n",
    "np.random.randint(0, 10, (3,3))"
   ]
  },
  {
   "cell_type": "code",
   "execution_count": null,
   "id": "293c01c5-cd6b-4cab-b982-a8ec09caaf32",
   "metadata": {},
   "outputs": [],
   "source": [
    "# 3x3 단위 행렬 만들기\n",
    "np.eye(3,3)"
   ]
  },
  {
   "cell_type": "code",
   "execution_count": 27,
   "id": "9d5df002-2c5f-4066-b798-dca7cfe7f02f",
   "metadata": {},
   "outputs": [
    {
     "data": {
      "text/plain": [
       "array([0. , 0.5, 1. ])"
      ]
     },
     "execution_count": 27,
     "metadata": {},
     "output_type": "execute_result"
    }
   ],
   "source": [
    "#세 개의 정수를 가지는 초기화되지 않은 배열 만들기\n",
    "#값은 해당 메모리 위치에 이미 존재하고 있는 값으로 채움\n",
    "np.empty(3)"
   ]
  },
  {
   "cell_type": "markdown",
   "id": "a71cd1b9-9ae5-44ae-9d21-926e5ddee88f",
   "metadata": {},
   "source": [
    "### Numpy 표준 데이터 타입\n",
    "* Numpy 배열은 하가지 타입의 값을 담고 있으니, 해당 타입과 그 타입의 제약 사항을 자세히 아는게 중요"
   ]
  },
  {
   "cell_type": "code",
   "execution_count": 28,
   "id": "31c62aef-d12c-4a76-8a2d-b3a513a0ac24",
   "metadata": {},
   "outputs": [
    {
     "data": {
      "text/plain": [
       "array([0, 0, 0, 0, 0, 0, 0, 0, 0, 0], dtype=int16)"
      ]
     },
     "execution_count": 28,
     "metadata": {},
     "output_type": "execute_result"
    }
   ],
   "source": [
    "np.zeros(10, dtype='int16')\n",
    "# or np.zeros(10, dtype=np.int16)"
   ]
  },
  {
   "cell_type": "markdown",
   "id": "66e4b933-6899-4c8c-8209-a8add2e08772",
   "metadata": {},
   "source": [
    "## Numpy 배열의 기초\n"
   ]
  },
  {
   "cell_type": "markdown",
   "id": "db4892c6-0085-4953-9e08-44f45a70e643",
   "metadata": {},
   "source": [
    "* 배열 속성 지정\n",
    "* 배열 인덱싱\n",
    "* 배열 슬라이싱\n",
    "* 배열 재구조화\n",
    "* 배열 결합 및 분할"
   ]
  },
  {
   "cell_type": "markdown",
   "id": "44ad4c6e-b18f-4c72-8778-b329dea9e300",
   "metadata": {},
   "source": [
    "### Numpy 배열 속성 지정"
   ]
  },
  {
   "cell_type": "code",
   "execution_count": 59,
   "id": "7890f0f2-c1fc-4f2f-a6e8-13efb2e46212",
   "metadata": {},
   "outputs": [],
   "source": [
    "import numpy as np\n",
    "np.random.seed(0) #재현 가능성을 위한 시드 값\n",
    "x1 = np.random.randint(10, size=6) # 1차원 배열\n",
    "x2 = np.random.randint(10, size=(3,4)) #2차원 배열\n",
    "x3 = np.random.randint(10, size=(3,4,5)) #3차원 배열"
   ]
  },
  {
   "cell_type": "code",
   "execution_count": 60,
   "id": "119a4eb2-a486-4932-ad49-728162197b79",
   "metadata": {},
   "outputs": [
    {
     "name": "stdout",
     "output_type": "stream",
     "text": [
      "x3 ndim: 3\n",
      "x3 shape: (3, 4, 5)\n",
      "x3 size: 60\n",
      "dtype: int32\n"
     ]
    }
   ],
   "source": [
    "print(\"x3 ndim:\", x3.ndim)\n",
    "print(\"x3 shape:\", x3.shape)\n",
    "print(\"x3 size:\", x3.size)\n",
    "print(\"dtype:\", x3.dtype)"
   ]
  },
  {
   "cell_type": "code",
   "execution_count": null,
   "id": "fe724b14-d8e4-4900-b25a-ea6576eab39b",
   "metadata": {},
   "outputs": [],
   "source": [
    "def desc(N : np.ndarray):\n",
    "    print(f'shape:{N.shape}, dtype:{N.type}, ndim:{N.dim}, size:{N.size}')"
   ]
  },
  {
   "cell_type": "markdown",
   "id": "6f068b39-7dc1-444d-a942-66381f2ad6d8",
   "metadata": {},
   "source": [
    "### 배열 인덱싱: 단일 요소에 접근하기"
   ]
  },
  {
   "cell_type": "code",
   "execution_count": 61,
   "id": "089b53c2-d5cd-471f-afa6-f0ba19069d39",
   "metadata": {},
   "outputs": [
    {
     "data": {
      "text/plain": [
       "array([5, 0, 3, 3, 7, 9])"
      ]
     },
     "execution_count": 61,
     "metadata": {},
     "output_type": "execute_result"
    }
   ],
   "source": [
    "x1"
   ]
  },
  {
   "cell_type": "code",
   "execution_count": 62,
   "id": "8c0fa128-5e1a-4fc3-add9-e39b563c4686",
   "metadata": {},
   "outputs": [
    {
     "data": {
      "text/plain": [
       "5"
      ]
     },
     "execution_count": 62,
     "metadata": {},
     "output_type": "execute_result"
    }
   ],
   "source": [
    "x1[0]"
   ]
  },
  {
   "cell_type": "code",
   "execution_count": 63,
   "id": "5aaa240e-f8b2-4639-9523-842afe771e2f",
   "metadata": {},
   "outputs": [
    {
     "data": {
      "text/plain": [
       "7"
      ]
     },
     "execution_count": 63,
     "metadata": {},
     "output_type": "execute_result"
    }
   ],
   "source": [
    "x1[4]"
   ]
  },
  {
   "cell_type": "code",
   "execution_count": 64,
   "id": "87d0eb4e-b4d2-4e06-98c0-dae3d5e2cbc9",
   "metadata": {},
   "outputs": [
    {
     "data": {
      "text/plain": [
       "9"
      ]
     },
     "execution_count": 64,
     "metadata": {},
     "output_type": "execute_result"
    }
   ],
   "source": [
    "x1[-1]"
   ]
  },
  {
   "cell_type": "code",
   "execution_count": 66,
   "id": "bfbd659d-ec40-4972-bd41-f82d9131f06e",
   "metadata": {},
   "outputs": [
    {
     "data": {
      "text/plain": [
       "7"
      ]
     },
     "execution_count": 66,
     "metadata": {},
     "output_type": "execute_result"
    }
   ],
   "source": [
    "x1[-2]"
   ]
  },
  {
   "cell_type": "code",
   "execution_count": 69,
   "id": "cb338a80-8513-411b-bde3-2dfe937d9612",
   "metadata": {},
   "outputs": [
    {
     "data": {
      "text/plain": [
       "array([[3, 5, 2, 4],\n",
       "       [7, 6, 8, 8],\n",
       "       [1, 6, 7, 7]])"
      ]
     },
     "execution_count": 69,
     "metadata": {},
     "output_type": "execute_result"
    }
   ],
   "source": [
    "x2"
   ]
  },
  {
   "cell_type": "code",
   "execution_count": 71,
   "id": "be4961fb-779a-4552-91bc-19177026fcbc",
   "metadata": {},
   "outputs": [
    {
     "data": {
      "text/plain": [
       "3"
      ]
     },
     "execution_count": 71,
     "metadata": {},
     "output_type": "execute_result"
    }
   ],
   "source": [
    "x2[0,0]"
   ]
  },
  {
   "cell_type": "code",
   "execution_count": 72,
   "id": "9efc0305-e5e0-4d48-bef1-17d39aef9904",
   "metadata": {},
   "outputs": [
    {
     "data": {
      "text/plain": [
       "1"
      ]
     },
     "execution_count": 72,
     "metadata": {},
     "output_type": "execute_result"
    }
   ],
   "source": [
    "x2[2,0]"
   ]
  },
  {
   "cell_type": "code",
   "execution_count": 73,
   "id": "d95fee59-8aac-4bbe-951e-e116eff2d781",
   "metadata": {},
   "outputs": [
    {
     "data": {
      "text/plain": [
       "7"
      ]
     },
     "execution_count": 73,
     "metadata": {},
     "output_type": "execute_result"
    }
   ],
   "source": [
    "x2[2,-1]"
   ]
  },
  {
   "cell_type": "code",
   "execution_count": 75,
   "id": "d079ab99-3206-4e4f-83bc-6afacd538a77",
   "metadata": {},
   "outputs": [
    {
     "data": {
      "text/plain": [
       "array([[12,  5,  2,  4],\n",
       "       [ 7,  6,  8,  8],\n",
       "       [ 1,  6,  7,  7]])"
      ]
     },
     "execution_count": 75,
     "metadata": {},
     "output_type": "execute_result"
    }
   ],
   "source": [
    "x2[0,0] = 12\n",
    "x2"
   ]
  },
  {
   "cell_type": "code",
   "execution_count": 76,
   "id": "30f010f1-017a-4632-8081-3113d3caace0",
   "metadata": {},
   "outputs": [
    {
     "data": {
      "text/plain": [
       "array([3, 0, 3, 3, 7, 9])"
      ]
     },
     "execution_count": 76,
     "metadata": {},
     "output_type": "execute_result"
    }
   ],
   "source": [
    "x1[0] = 3.14159 # 이 값의 소수점 이하는 잘릴 것\n",
    "x1"
   ]
  },
  {
   "cell_type": "markdown",
   "id": "f8565303-6c56-4286-8f8a-91b0a7fc9bc1",
   "metadata": {},
   "source": [
    "### 배열슬라이싱: 하위 배열에 접근하기"
   ]
  },
  {
   "cell_type": "code",
   "execution_count": 77,
   "id": "f105d15f-66b0-43b1-8695-7df1a7aa3305",
   "metadata": {},
   "outputs": [
    {
     "ename": "NameError",
     "evalue": "name 'x' is not defined",
     "output_type": "error",
     "traceback": [
      "\u001b[1;31m---------------------------------------------------------------------------\u001b[0m",
      "\u001b[1;31mNameError\u001b[0m                                 Traceback (most recent call last)",
      "Cell \u001b[1;32mIn[77], line 1\u001b[0m\n\u001b[1;32m----> 1\u001b[0m \u001b[43mx\u001b[49m[start:stop:step]\n",
      "\u001b[1;31mNameError\u001b[0m: name 'x' is not defined"
     ]
    }
   ],
   "source": [
    "x[start:stop:step]"
   ]
  },
  {
   "cell_type": "code",
   "execution_count": 78,
   "id": "619cc55b-796b-4820-9246-922c5849c810",
   "metadata": {},
   "outputs": [
    {
     "data": {
      "text/plain": [
       "array([0, 1, 2, 3, 4, 5, 6, 7, 8, 9])"
      ]
     },
     "execution_count": 78,
     "metadata": {},
     "output_type": "execute_result"
    }
   ],
   "source": [
    "x = np.arange(10)\n",
    "x"
   ]
  },
  {
   "cell_type": "code",
   "execution_count": 79,
   "id": "56bdde1e-585f-4699-9276-e15cff9b330e",
   "metadata": {},
   "outputs": [
    {
     "data": {
      "text/plain": [
       "array([0, 1, 2, 3, 4])"
      ]
     },
     "execution_count": 79,
     "metadata": {},
     "output_type": "execute_result"
    }
   ],
   "source": [
    "x[:5]"
   ]
  },
  {
   "cell_type": "code",
   "execution_count": 80,
   "id": "f74bf1ad-079e-4307-bbd9-b50c85e3b6a1",
   "metadata": {},
   "outputs": [
    {
     "data": {
      "text/plain": [
       "array([5, 6, 7, 8, 9])"
      ]
     },
     "execution_count": 80,
     "metadata": {},
     "output_type": "execute_result"
    }
   ],
   "source": [
    "x[5:]"
   ]
  },
  {
   "cell_type": "code",
   "execution_count": 82,
   "id": "2d713b5e-0e58-4029-8166-00143b9c1c0d",
   "metadata": {},
   "outputs": [
    {
     "data": {
      "text/plain": [
       "array([4, 5, 6])"
      ]
     },
     "execution_count": 82,
     "metadata": {},
     "output_type": "execute_result"
    }
   ],
   "source": [
    "x[4:7]"
   ]
  },
  {
   "cell_type": "code",
   "execution_count": 83,
   "id": "424c06b3-ca4e-42f0-aecd-2bf896ca1d67",
   "metadata": {},
   "outputs": [
    {
     "data": {
      "text/plain": [
       "array([0, 2, 4, 6, 8])"
      ]
     },
     "execution_count": 83,
     "metadata": {},
     "output_type": "execute_result"
    }
   ],
   "source": [
    "x[::2]"
   ]
  },
  {
   "cell_type": "code",
   "execution_count": 84,
   "id": "46c0cdb2-0169-497d-b510-0d55ee5ec293",
   "metadata": {},
   "outputs": [
    {
     "data": {
      "text/plain": [
       "array([1, 3, 5, 7, 9])"
      ]
     },
     "execution_count": 84,
     "metadata": {},
     "output_type": "execute_result"
    }
   ],
   "source": [
    "x[1::2]"
   ]
  },
  {
   "cell_type": "code",
   "execution_count": 85,
   "id": "a0e0732d-f923-494f-848e-93972f36cc81",
   "metadata": {},
   "outputs": [
    {
     "data": {
      "text/plain": [
       "array([9, 8, 7, 6, 5, 4, 3, 2, 1, 0])"
      ]
     },
     "execution_count": 85,
     "metadata": {},
     "output_type": "execute_result"
    }
   ],
   "source": [
    "x[::-1]"
   ]
  },
  {
   "cell_type": "code",
   "execution_count": 86,
   "id": "785c721a-fb4f-4db2-b5d8-9f9951c0c27f",
   "metadata": {},
   "outputs": [
    {
     "data": {
      "text/plain": [
       "array([5, 3, 1])"
      ]
     },
     "execution_count": 86,
     "metadata": {},
     "output_type": "execute_result"
    }
   ],
   "source": [
    "x[5::-2]"
   ]
  },
  {
   "cell_type": "markdown",
   "id": "e2bc66d3-ec24-4a52-8f5d-57429f70cccc",
   "metadata": {},
   "source": [
    "### 다차원 하위 배열\n"
   ]
  },
  {
   "cell_type": "code",
   "execution_count": 87,
   "id": "135c6ca4-29fe-4f65-bd79-151ce4238d30",
   "metadata": {},
   "outputs": [
    {
     "data": {
      "text/plain": [
       "array([[12,  5,  2,  4],\n",
       "       [ 7,  6,  8,  8],\n",
       "       [ 1,  6,  7,  7]])"
      ]
     },
     "execution_count": 87,
     "metadata": {},
     "output_type": "execute_result"
    }
   ],
   "source": [
    "x2"
   ]
  },
  {
   "cell_type": "code",
   "execution_count": 89,
   "id": "7fd2ae56-4994-44ec-849f-d8920d981a0d",
   "metadata": {},
   "outputs": [
    {
     "data": {
      "text/plain": [
       "array([[12,  5,  2],\n",
       "       [ 7,  6,  8]])"
      ]
     },
     "execution_count": 89,
     "metadata": {},
     "output_type": "execute_result"
    }
   ],
   "source": [
    "x2[:2,:3]"
   ]
  },
  {
   "cell_type": "code",
   "execution_count": 90,
   "id": "9d67c530-f7dc-455a-9f50-f4437472e0f5",
   "metadata": {},
   "outputs": [
    {
     "data": {
      "text/plain": [
       "array([[12,  2],\n",
       "       [ 7,  8],\n",
       "       [ 1,  7]])"
      ]
     },
     "execution_count": 90,
     "metadata": {},
     "output_type": "execute_result"
    }
   ],
   "source": [
    "x2[:3,::2]"
   ]
  },
  {
   "cell_type": "code",
   "execution_count": 93,
   "id": "674857fd-c5f8-49eb-b16a-476a010f2fba",
   "metadata": {},
   "outputs": [
    {
     "data": {
      "text/plain": [
       "array([[ 7,  7,  6,  1],\n",
       "       [ 8,  8,  6,  7],\n",
       "       [ 4,  2,  5, 12]])"
      ]
     },
     "execution_count": 93,
     "metadata": {},
     "output_type": "execute_result"
    }
   ],
   "source": [
    "x2[::-1,::-1]"
   ]
  },
  {
   "cell_type": "code",
   "execution_count": 94,
   "id": "73542ac6-a377-44ac-80fb-0ff2a636a7e3",
   "metadata": {},
   "outputs": [
    {
     "name": "stdout",
     "output_type": "stream",
     "text": [
      "[12  7  1]\n"
     ]
    }
   ],
   "source": [
    "print(x2[:,0])"
   ]
  },
  {
   "cell_type": "code",
   "execution_count": 96,
   "id": "3b677bf0-a67c-45bc-b7fd-20cebf4841c8",
   "metadata": {},
   "outputs": [
    {
     "name": "stdout",
     "output_type": "stream",
     "text": [
      "[12  5  2  4]\n"
     ]
    }
   ],
   "source": [
    "print(x2[0,:])"
   ]
  },
  {
   "cell_type": "code",
   "execution_count": 97,
   "id": "cee11651-86d7-4bc9-8150-8f3cf05d8c91",
   "metadata": {},
   "outputs": [
    {
     "name": "stdout",
     "output_type": "stream",
     "text": [
      "[12  5  2  4]\n"
     ]
    }
   ],
   "source": [
    "print(x2[0])"
   ]
  },
  {
   "cell_type": "markdown",
   "id": "f9f47f95-eba2-4b79-9293-c93cc6e21a2e",
   "metadata": {},
   "source": [
    "### 사본이 아닌 뷰로서의 하위 배열"
   ]
  },
  {
   "cell_type": "code",
   "execution_count": 100,
   "id": "bc68c05f-f0a8-4c3a-a461-afdd0f5f5194",
   "metadata": {},
   "outputs": [
    {
     "name": "stdout",
     "output_type": "stream",
     "text": [
      "[[12  5  2  4]\n",
      " [ 7  6  8  8]\n",
      " [ 1  6  7  7]]\n"
     ]
    }
   ],
   "source": [
    "print(x2)"
   ]
  },
  {
   "cell_type": "code",
   "execution_count": 101,
   "id": "eff549b8-3245-48ea-9ea2-f6e2a816b2e7",
   "metadata": {},
   "outputs": [
    {
     "name": "stdout",
     "output_type": "stream",
     "text": [
      "[[12  5]\n",
      " [ 7  6]]\n"
     ]
    }
   ],
   "source": [
    "x2_sub = x2[:2, :2]\n",
    "print(x2_sub)"
   ]
  },
  {
   "cell_type": "code",
   "execution_count": 102,
   "id": "eed8c2fc-0e8b-4d60-b42f-1a4dcc2be720",
   "metadata": {},
   "outputs": [
    {
     "name": "stdout",
     "output_type": "stream",
     "text": [
      "[[99  5]\n",
      " [ 7  6]]\n"
     ]
    }
   ],
   "source": [
    "x2_sub[0,0] = 99\n",
    "print(x2_sub)"
   ]
  },
  {
   "cell_type": "code",
   "execution_count": 104,
   "id": "ad1c9115-d9d1-4101-b249-0f988aa6b46d",
   "metadata": {},
   "outputs": [
    {
     "name": "stdout",
     "output_type": "stream",
     "text": [
      "[[99  5  2  4]\n",
      " [ 7  6  8  8]\n",
      " [ 1  6  7  7]]\n"
     ]
    }
   ],
   "source": [
    "print(x2)\n",
    "# 하위 배열을 수정하므로써 사우이 배열도 같이 변경됨"
   ]
  },
  {
   "cell_type": "markdown",
   "id": "685e1853-339b-4c00-a7fe-f843d22e7c37",
   "metadata": {},
   "source": [
    "### 배열의 사본 만들기"
   ]
  },
  {
   "cell_type": "code",
   "execution_count": 105,
   "id": "d5a8bc3c-d287-4952-aa3d-08789e6d0f91",
   "metadata": {},
   "outputs": [
    {
     "name": "stdout",
     "output_type": "stream",
     "text": [
      "[[99  5]\n",
      " [ 7  6]]\n"
     ]
    }
   ],
   "source": [
    "x2_sub_copy = x2[:2, :2].copy()\n",
    "print(x2_sub_copy)"
   ]
  },
  {
   "cell_type": "code",
   "execution_count": 106,
   "id": "17e01c2a-3aee-4960-855a-8202ac53a54a",
   "metadata": {},
   "outputs": [
    {
     "name": "stdout",
     "output_type": "stream",
     "text": [
      "[[42  5]\n",
      " [ 7  6]]\n"
     ]
    }
   ],
   "source": [
    "x2_sub_copy[0,0] = 42\n",
    "print(x2_sub_copy)"
   ]
  },
  {
   "cell_type": "code",
   "execution_count": 107,
   "id": "5059bfaf-ff60-4016-9949-77c5794f9a53",
   "metadata": {},
   "outputs": [
    {
     "name": "stdout",
     "output_type": "stream",
     "text": [
      "[[99  5  2  4]\n",
      " [ 7  6  8  8]\n",
      " [ 1  6  7  7]]\n"
     ]
    }
   ],
   "source": [
    "print(x2)"
   ]
  },
  {
   "cell_type": "markdown",
   "id": "fc709312-02a9-48e5-993e-7b331652a30c",
   "metadata": {},
   "source": [
    "### 배열의 재구조화"
   ]
  },
  {
   "cell_type": "code",
   "execution_count": 109,
   "id": "62c84297-251a-4aa7-ab49-afece7ae9e5e",
   "metadata": {},
   "outputs": [
    {
     "name": "stdout",
     "output_type": "stream",
     "text": [
      "[[1 2 3]\n",
      " [4 5 6]\n",
      " [7 8 9]]\n"
     ]
    }
   ],
   "source": [
    "grid = np.arange(1, 10).reshape((3,3))\n",
    "print(grid)\n",
    "# 배열의 형상을 변경, 가장유연하게 하는 방법은 reshape() 메서드 사용"
   ]
  },
  {
   "cell_type": "code",
   "execution_count": 110,
   "id": "23831266-7f1e-41d6-aa7b-bc7c866a9132",
   "metadata": {},
   "outputs": [],
   "source": [
    "# 위의 코드가 동작하려면 배열의 규모가 형상이 변경된 배열의 규모와 일치해야함\n",
    "# 또 다른 일반적인 재구조화 패턴은 1차원 배열을 2차원 행이나 열 매트릭스로 전환하는 것, 이 것도 reshape() 메서드로 가능"
   ]
  },
  {
   "cell_type": "markdown",
   "id": "6ace3d84-1d65-498e-903f-8aafc9fb9952",
   "metadata": {},
   "source": [
    "## 배열 연결 및 분할"
   ]
  },
  {
   "cell_type": "markdown",
   "id": "467e9b93-1cb7-4074-a896-2d6bb4d76436",
   "metadata": {},
   "source": [
    " ### 배열 연결"
   ]
  },
  {
   "cell_type": "code",
   "execution_count": 40,
   "id": "4d8acc18-c98a-4494-944f-b5664f4ed50e",
   "metadata": {},
   "outputs": [
    {
     "data": {
      "text/plain": [
       "(array([1, 2, 3, 3, 2, 1]), (3,), (3,))"
      ]
     },
     "execution_count": 40,
     "metadata": {},
     "output_type": "execute_result"
    }
   ],
   "source": [
    "a = np.array([1,2,3])\n",
    "b = np.array([3,2,1])\n",
    "np.concatenate([a,b]), a.shape, b.shape"
   ]
  },
  {
   "cell_type": "code",
   "execution_count": 39,
   "id": "e22a5a6c-c5e5-47a7-8e17-ff88382ffa58",
   "metadata": {},
   "outputs": [
    {
     "data": {
      "text/plain": [
       "(2, 3)"
      ]
     },
     "execution_count": 39,
     "metadata": {},
     "output_type": "execute_result"
    }
   ],
   "source": [
    "np.vstack([x,y]).shape"
   ]
  },
  {
   "cell_type": "code",
   "execution_count": 42,
   "id": "f2c97563-0f63-4354-a265-d25837225243",
   "metadata": {},
   "outputs": [],
   "source": [
    "c = np.vstack([a, b])"
   ]
  },
  {
   "cell_type": "code",
   "execution_count": 44,
   "id": "ca66f844-6e68-4546-b6bd-f367b13dbaf4",
   "metadata": {},
   "outputs": [
    {
     "data": {
      "text/plain": [
       "array([ 1,  2,  3,  4,  5,  6,  7,  8,  9, 10])"
      ]
     },
     "execution_count": 44,
     "metadata": {},
     "output_type": "execute_result"
    }
   ],
   "source": [
    "arr2 = np.arange(1,11)\n",
    "arr2"
   ]
  },
  {
   "cell_type": "code",
   "execution_count": 51,
   "id": "8da0a183-8c49-4502-8941-56101355403b",
   "metadata": {},
   "outputs": [
    {
     "data": {
      "text/plain": [
       "[array([1, 2, 3]), array([4, 5]), array([6, 7]), array([ 8,  9, 10])]"
      ]
     },
     "execution_count": 51,
     "metadata": {},
     "output_type": "execute_result"
    }
   ],
   "source": [
    "train_n = len(arr2)//2\n",
    "test_n = len(arr2)-train_n\n",
    "np.split(arr2,[train_n, test_n])\n",
    "np.split(arr2,[3,5,7])"
   ]
  },
  {
   "cell_type": "code",
   "execution_count": 48,
   "id": "84961baa-bc29-4e7c-8868-486cb3eef980",
   "metadata": {},
   "outputs": [
    {
     "data": {
      "text/plain": [
       "[1, 2, 3]"
      ]
     },
     "execution_count": 48,
     "metadata": {},
     "output_type": "execute_result"
    }
   ],
   "source": [
    "lst =[1,2,3]\n",
    "lst2 = lst[:]\n",
    "\n",
    "lst2[1] = 555\n",
    "lst"
   ]
  },
  {
   "cell_type": "markdown",
   "id": "0e9b0428-a5e3-4bd7-91bf-550bd81e22b0",
   "metadata": {},
   "source": [
    "# Numpy 배열 연산: 유니버설 함수 Universal funtions"
   ]
  },
  {
   "cell_type": "code",
   "execution_count": 9,
   "id": "6b89a653",
   "metadata": {},
   "outputs": [
    {
     "data": {
      "text/plain": [
       "'1.26.4'"
      ]
     },
     "execution_count": 9,
     "metadata": {},
     "output_type": "execute_result"
    }
   ],
   "source": [
    "import numpy as np\n",
    "np.__version__"
   ]
  },
  {
   "cell_type": "code",
   "execution_count": 4,
   "id": "374e5927-50d3-48ef-aa0a-7e2e0c339473",
   "metadata": {},
   "outputs": [],
   "source": [
    "def calc(values):\n",
    "    results = []\n",
    "    for i in values:\n",
    "        results.append(1/i)\n",
    "    return results"
   ]
  },
  {
   "cell_type": "code",
   "execution_count": 5,
   "id": "94a13ce2-983b-4bfe-9eef-14e9c17114f2",
   "metadata": {},
   "outputs": [
    {
     "data": {
      "text/plain": [
       "1000000"
      ]
     },
     "execution_count": 5,
     "metadata": {},
     "output_type": "execute_result"
    }
   ],
   "source": [
    "data = np.random.randint(1, 100, 1000000)\n",
    "len(calc(data))"
   ]
  },
  {
   "cell_type": "code",
   "execution_count": 6,
   "id": "e3a4d9c5-a421-4e73-b181-c82a9858da01",
   "metadata": {},
   "outputs": [
    {
     "name": "stdout",
     "output_type": "stream",
     "text": [
      "131 ms ± 934 µs per loop (mean ± std. dev. of 7 runs, 10 loops each)\n"
     ]
    }
   ],
   "source": [
    "%timeit calc(data)"
   ]
  },
  {
   "cell_type": "code",
   "execution_count": 7,
   "id": "7d1377b2-6274-4bbc-9a6b-e15341ddeffb",
   "metadata": {},
   "outputs": [
    {
     "data": {
      "text/plain": [
       "(99999,)"
      ]
     },
     "execution_count": 7,
     "metadata": {},
     "output_type": "execute_result"
    }
   ],
   "source": [
    "data = np.arange(1, 100000)\n",
    "(1/data).shape"
   ]
  },
  {
   "cell_type": "code",
   "execution_count": 65,
   "id": "743a67ea-49a3-4f76-989d-eca07d567560",
   "metadata": {},
   "outputs": [
    {
     "name": "stdout",
     "output_type": "stream",
     "text": [
      "21.6 ms ± 176 µs per loop (mean ± std. dev. of 7 runs, 10 loops each)\n"
     ]
    }
   ],
   "source": [
    "%timeit calc(data)"
   ]
  },
  {
   "cell_type": "code",
   "execution_count": 8,
   "id": "94ef0c78-423f-42b6-8569-c3da44fb6c78",
   "metadata": {},
   "outputs": [
    {
     "name": "stdout",
     "output_type": "stream",
     "text": [
      "97.3 µs ± 147 ns per loop (mean ± std. dev. of 7 runs, 10,000 loops each)\n"
     ]
    }
   ],
   "source": [
    "%timeit 1/data"
   ]
  },
  {
   "cell_type": "code",
   "execution_count": null,
   "id": "450b3e7f-f402-46b5-981b-b53ac2ba6971",
   "metadata": {},
   "outputs": [],
   "source": [
    "result =[]\n",
    "for d in data"
   ]
  },
  {
   "cell_type": "code",
   "execution_count": null,
   "id": "833072b8",
   "metadata": {},
   "outputs": [],
   "source": []
  },
  {
   "cell_type": "code",
   "execution_count": 10,
   "id": "589f2cb9-56e1-49ee-b03f-67affd8b9fcf",
   "metadata": {},
   "outputs": [],
   "source": [
    "class Int:\n",
    "    def __init__(self, x):\n",
    "        self._x = x\n",
    "    def __add__(self, other):\n",
    "        return self._x + other._x\n",
    "    def __sub__(self, other):\n",
    "        return self._x - other._x"
   ]
  },
  {
   "cell_type": "code",
   "execution_count": 11,
   "id": "32e54c96",
   "metadata": {},
   "outputs": [
    {
     "data": {
      "text/plain": [
       "(3, -1)"
      ]
     },
     "execution_count": 11,
     "metadata": {},
     "output_type": "execute_result"
    }
   ],
   "source": [
    "a = Int(1)\n",
    "b = Int(2)\n",
    "a+b, a-b"
   ]
  },
  {
   "cell_type": "markdown",
   "id": "7d68d511",
   "metadata": {},
   "source": [
    "배열 산술 연산"
   ]
  },
  {
   "cell_type": "code",
   "execution_count": 13,
   "id": "bf84782a",
   "metadata": {},
   "outputs": [
    {
     "name": "stdout",
     "output_type": "stream",
     "text": [
      "x = [0 1 2 3]\n",
      "x+5 = [5 6 7 8]\n",
      "x-5 = [-5 -4 -3 -2]\n",
      "x*2 = [0 2 4 6]\n",
      "x/2 = [0.  0.5 1.  1.5]\n",
      "x//2 = [0 0 1 1]\n"
     ]
    }
   ],
   "source": [
    "x = np.arange(4)\n",
    "print(\"x =\", x)\n",
    "print(\"x+5 =\", x+5)\n",
    "print(\"x-5 =\", x-5)\n",
    "print(\"x*2 =\", x*2)\n",
    "print(\"x/2 =\", x/2)\n",
    "print(\"x//2 =\", x//2) #바닥 나눗셈(나머지는 버림)"
   ]
  },
  {
   "cell_type": "code",
   "execution_count": 14,
   "id": "d309b553",
   "metadata": {},
   "outputs": [
    {
     "name": "stdout",
     "output_type": "stream",
     "text": [
      "-x = [ 0 -1 -2 -3]\n",
      "x**2 = [0 1 4 9]\n",
      "x % 2 = [0 1 0 1]\n"
     ]
    }
   ],
   "source": [
    "print(\"-x =\", -x)\n",
    "print(\"x**2 =\", x**2)\n",
    "print(\"x % 2 =\", x%2)"
   ]
  },
  {
   "cell_type": "code",
   "execution_count": 15,
   "id": "25037a2c",
   "metadata": {},
   "outputs": [
    {
     "data": {
      "text/plain": [
       "array([-1.  , -2.25, -4.  , -6.25])"
      ]
     },
     "execution_count": 15,
     "metadata": {},
     "output_type": "execute_result"
    }
   ],
   "source": [
    "-(0.5 * x + 1) **2  #원하는 만큼의 연산이 가능하고 표준 연산순서를 따른다"
   ]
  },
  {
   "cell_type": "code",
   "execution_count": 18,
   "id": "9e20749a",
   "metadata": {},
   "outputs": [
    {
     "data": {
      "text/plain": [
       "array([2, 3, 4, 5])"
      ]
     },
     "execution_count": 18,
     "metadata": {},
     "output_type": "execute_result"
    }
   ],
   "source": [
    "np.add(x, 2)"
   ]
  },
  {
   "cell_type": "markdown",
   "id": "33923258",
   "metadata": {},
   "source": [
    "절대값 함수"
   ]
  },
  {
   "cell_type": "code",
   "execution_count": 19,
   "id": "33b6c71e",
   "metadata": {},
   "outputs": [
    {
     "data": {
      "text/plain": [
       "array([2, 1, 0, 1, 2])"
      ]
     },
     "execution_count": 19,
     "metadata": {},
     "output_type": "execute_result"
    }
   ],
   "source": [
    "x  = np.array([-2, -1, 0, 1, 2])\n",
    "abs(x)"
   ]
  },
  {
   "cell_type": "code",
   "execution_count": 20,
   "id": "6e864acd",
   "metadata": {},
   "outputs": [
    {
     "data": {
      "text/plain": [
       "array([2, 1, 0, 1, 2])"
      ]
     },
     "execution_count": 20,
     "metadata": {},
     "output_type": "execute_result"
    }
   ],
   "source": [
    "np.absolute(x)"
   ]
  },
  {
   "cell_type": "code",
   "execution_count": 21,
   "id": "b3fdc0ae",
   "metadata": {},
   "outputs": [
    {
     "data": {
      "text/plain": [
       "array([2, 1, 0, 1, 2])"
      ]
     },
     "execution_count": 21,
     "metadata": {},
     "output_type": "execute_result"
    }
   ],
   "source": [
    "np.abs(x)"
   ]
  },
  {
   "cell_type": "code",
   "execution_count": 22,
   "id": "928d212c",
   "metadata": {},
   "outputs": [
    {
     "data": {
      "text/plain": [
       "array([5., 5., 2., 1.])"
      ]
     },
     "execution_count": 22,
     "metadata": {},
     "output_type": "execute_result"
    }
   ],
   "source": [
    "x = np.array([3-4j, 4-3j, 2+0j, 0+1j])\n",
    "np.abs(x)"
   ]
  },
  {
   "cell_type": "markdown",
   "id": "aa092172",
   "metadata": {},
   "source": [
    "삼각함수"
   ]
  },
  {
   "cell_type": "code",
   "execution_count": 23,
   "id": "48e17f7e",
   "metadata": {},
   "outputs": [],
   "source": [
    "theta = np.linspace(0, np.pi, 3)"
   ]
  },
  {
   "cell_type": "code",
   "execution_count": 24,
   "id": "11ec9a6f",
   "metadata": {},
   "outputs": [
    {
     "name": "stdout",
     "output_type": "stream",
     "text": [
      "theta = [0.         1.57079633 3.14159265]\n",
      "sin(theta) = [0.0000000e+00 1.0000000e+00 1.2246468e-16]\n",
      "cos(theta) = [ 1.000000e+00  6.123234e-17 -1.000000e+00]\n",
      "tan(theta) = [ 0.00000000e+00  1.63312394e+16 -1.22464680e-16]\n"
     ]
    }
   ],
   "source": [
    "print(\"theta =\", theta)\n",
    "print(\"sin(theta) =\", np.sin(theta))\n",
    "print(\"cos(theta) =\", np.cos(theta))\n",
    "print(\"tan(theta) =\", np.tan(theta))"
   ]
  },
  {
   "cell_type": "code",
   "execution_count": 27,
   "id": "cff90f39",
   "metadata": {},
   "outputs": [
    {
     "name": "stdout",
     "output_type": "stream",
     "text": [
      "x = [1, 2, 3]\n",
      "e^x = [1.57079633        nan        nan]\n",
      "2^x = [2. 4. 8.]\n",
      "3^x = [ 3  9 27]\n"
     ]
    },
    {
     "name": "stderr",
     "output_type": "stream",
     "text": [
      "C:\\Users\\user\\AppData\\Local\\Temp\\ipykernel_11328\\826571859.py:3: RuntimeWarning: invalid value encountered in arcsin\n",
      "  print(\"e^x =\", np.arcsin(x))\n"
     ]
    }
   ],
   "source": [
    "x = [1, 2, 3]\n",
    "print(\"x =\", x)\n",
    "print(\"e^x =\", np.arcsin(x))\n",
    "print(\"2^x =\", np.exp2(x))\n",
    "print(\"3^x =\", np.power(3,x))"
   ]
  },
  {
   "cell_type": "code",
   "execution_count": 33,
   "id": "117287f3",
   "metadata": {},
   "outputs": [
    {
     "name": "stdout",
     "output_type": "stream",
     "text": [
      "x        = [1, 2, 4, 10]\n",
      "ln(x)    = [0.         0.69314718 1.38629436 2.30258509]\n",
      "log2(x)  = [0.         1.         2.         3.32192809]\n",
      "log10(x) = [0.         0.30103    0.60205999 1.        ]\n"
     ]
    }
   ],
   "source": [
    "x = [1,2,4,10]\n",
    "print(\"x        =\", x)\n",
    "print(\"ln(x)    =\", np.log(x))\n",
    "print(\"log2(x)  =\", np.log2(x))\n",
    "print(\"log10(x) =\", np.log10(x))"
   ]
  },
  {
   "cell_type": "markdown",
   "id": "c2e1ba2b",
   "metadata": {},
   "source": [
    "특화된 univerval functions\n"
   ]
  },
  {
   "cell_type": "code",
   "execution_count": 35,
   "id": "3814178d",
   "metadata": {
    "scrolled": true
   },
   "outputs": [
    {
     "name": "stdout",
     "output_type": "stream",
     "text": [
      "Collecting scipy\n",
      "  Downloading scipy-1.13.1-cp39-cp39-win_amd64.whl.metadata (60 kB)\n",
      "     ---------------------------------------- 0.0/60.6 kB ? eta -:--:--\n",
      "     ---------------------------------------- 60.6/60.6 kB 1.6 MB/s eta 0:00:00\n",
      "Requirement already satisfied: numpy<2.3,>=1.22.4 in c:\\users\\user\\appdata\\local\\programs\\python\\python39\\lib\\site-packages (from scipy) (1.26.4)\n",
      "Downloading scipy-1.13.1-cp39-cp39-win_amd64.whl (46.2 MB)\n",
      "   ---------------------------------------- 0.0/46.2 MB ? eta -:--:--\n",
      "   ---------------------------------------- 0.4/46.2 MB 13.9 MB/s eta 0:00:04\n",
      "    --------------------------------------- 0.7/46.2 MB 8.5 MB/s eta 0:00:06\n",
      "    --------------------------------------- 1.0/46.2 MB 8.3 MB/s eta 0:00:06\n",
      "   - -------------------------------------- 1.5/46.2 MB 8.7 MB/s eta 0:00:06\n",
      "   - -------------------------------------- 1.9/46.2 MB 8.5 MB/s eta 0:00:06\n",
      "   - -------------------------------------- 2.3/46.2 MB 8.0 MB/s eta 0:00:06\n",
      "   -- ------------------------------------- 2.7/46.2 MB 8.1 MB/s eta 0:00:06\n",
      "   -- ------------------------------------- 3.1/46.2 MB 8.2 MB/s eta 0:00:06\n",
      "   -- ------------------------------------- 3.5/46.2 MB 8.2 MB/s eta 0:00:06\n",
      "   --- ------------------------------------ 3.8/46.2 MB 8.2 MB/s eta 0:00:06\n",
      "   --- ------------------------------------ 4.2/46.2 MB 8.1 MB/s eta 0:00:06\n",
      "   --- ------------------------------------ 4.2/46.2 MB 8.1 MB/s eta 0:00:06\n",
      "   --- ------------------------------------ 4.3/46.2 MB 7.0 MB/s eta 0:00:07\n",
      "   ---- ----------------------------------- 4.7/46.2 MB 7.1 MB/s eta 0:00:06\n",
      "   ---- ----------------------------------- 5.1/46.2 MB 7.2 MB/s eta 0:00:06\n",
      "   ---- ----------------------------------- 5.2/46.2 MB 7.1 MB/s eta 0:00:06\n",
      "   ---- ----------------------------------- 5.2/46.2 MB 7.1 MB/s eta 0:00:06\n",
      "   ---- ----------------------------------- 5.2/46.2 MB 7.1 MB/s eta 0:00:06\n",
      "   ---- ----------------------------------- 5.2/46.2 MB 7.1 MB/s eta 0:00:06\n",
      "   ---- ----------------------------------- 5.2/46.2 MB 7.1 MB/s eta 0:00:06\n",
      "   ---- ----------------------------------- 5.6/46.2 MB 5.5 MB/s eta 0:00:08\n",
      "   ----- ---------------------------------- 5.9/46.2 MB 5.6 MB/s eta 0:00:08\n",
      "   ----- ---------------------------------- 6.4/46.2 MB 5.8 MB/s eta 0:00:07\n",
      "   ----- ---------------------------------- 6.8/46.2 MB 5.9 MB/s eta 0:00:07\n",
      "   ------ --------------------------------- 7.2/46.2 MB 6.1 MB/s eta 0:00:07\n",
      "   ------ --------------------------------- 7.8/46.2 MB 6.2 MB/s eta 0:00:07\n",
      "   ------ --------------------------------- 8.1/46.2 MB 6.2 MB/s eta 0:00:07\n",
      "   ------- -------------------------------- 8.6/46.2 MB 6.4 MB/s eta 0:00:06\n",
      "   ------- -------------------------------- 9.0/46.2 MB 6.5 MB/s eta 0:00:06\n",
      "   -------- ------------------------------- 9.5/46.2 MB 6.7 MB/s eta 0:00:06\n",
      "   -------- ------------------------------- 9.8/46.2 MB 6.7 MB/s eta 0:00:06\n",
      "   -------- ------------------------------- 10.3/46.2 MB 6.7 MB/s eta 0:00:06\n",
      "   --------- ------------------------------ 10.7/46.2 MB 6.7 MB/s eta 0:00:06\n",
      "   --------- ------------------------------ 11.1/46.2 MB 6.7 MB/s eta 0:00:06\n",
      "   --------- ------------------------------ 11.5/46.2 MB 6.7 MB/s eta 0:00:06\n",
      "   ---------- ----------------------------- 11.9/46.2 MB 6.8 MB/s eta 0:00:06\n",
      "   ---------- ----------------------------- 12.4/46.2 MB 6.8 MB/s eta 0:00:05\n",
      "   ----------- ---------------------------- 12.9/46.2 MB 6.8 MB/s eta 0:00:05\n",
      "   ----------- ---------------------------- 13.4/46.2 MB 6.9 MB/s eta 0:00:05\n",
      "   ----------- ---------------------------- 13.8/46.2 MB 6.8 MB/s eta 0:00:05\n",
      "   ------------ --------------------------- 14.3/46.2 MB 7.0 MB/s eta 0:00:05\n",
      "   ------------ --------------------------- 14.7/46.2 MB 7.3 MB/s eta 0:00:05\n",
      "   ------------ --------------------------- 15.0/46.2 MB 7.4 MB/s eta 0:00:05\n",
      "   ------------- -------------------------- 15.5/46.2 MB 9.1 MB/s eta 0:00:04\n",
      "   ------------- -------------------------- 15.7/46.2 MB 9.1 MB/s eta 0:00:04\n",
      "   ------------- -------------------------- 16.1/46.2 MB 8.8 MB/s eta 0:00:04\n",
      "   -------------- ------------------------- 16.5/46.2 MB 8.7 MB/s eta 0:00:04\n",
      "   -------------- ------------------------- 16.7/46.2 MB 8.6 MB/s eta 0:00:04\n",
      "   -------------- ------------------------- 16.8/46.2 MB 8.4 MB/s eta 0:00:04\n",
      "   -------------- ------------------------- 16.8/46.2 MB 8.4 MB/s eta 0:00:04\n",
      "   -------------- ------------------------- 16.9/46.2 MB 7.8 MB/s eta 0:00:04\n",
      "   -------------- ------------------------- 17.3/46.2 MB 7.7 MB/s eta 0:00:04\n",
      "   --------------- ------------------------ 17.7/46.2 MB 7.7 MB/s eta 0:00:04\n",
      "   --------------- ------------------------ 18.1/46.2 MB 7.7 MB/s eta 0:00:04\n",
      "   ---------------- ----------------------- 18.6/46.2 MB 7.7 MB/s eta 0:00:04\n",
      "   ---------------- ----------------------- 19.0/46.2 MB 7.7 MB/s eta 0:00:04\n",
      "   ---------------- ----------------------- 19.4/46.2 MB 7.6 MB/s eta 0:00:04\n",
      "   ----------------- ---------------------- 19.8/46.2 MB 7.6 MB/s eta 0:00:04\n",
      "   ----------------- ---------------------- 20.4/46.2 MB 7.7 MB/s eta 0:00:04\n",
      "   ----------------- ---------------------- 20.7/46.2 MB 7.7 MB/s eta 0:00:04\n",
      "   ------------------ --------------------- 21.2/46.2 MB 7.8 MB/s eta 0:00:04\n",
      "   ------------------ --------------------- 21.5/46.2 MB 7.8 MB/s eta 0:00:04\n",
      "   ------------------ --------------------- 21.7/46.2 MB 7.5 MB/s eta 0:00:04\n",
      "   ------------------ --------------------- 21.9/46.2 MB 7.4 MB/s eta 0:00:04\n",
      "   ------------------- -------------------- 22.1/46.2 MB 7.4 MB/s eta 0:00:04\n",
      "   ------------------- -------------------- 22.5/46.2 MB 7.4 MB/s eta 0:00:04\n",
      "   ------------------- -------------------- 22.8/46.2 MB 7.2 MB/s eta 0:00:04\n",
      "   ------------------- -------------------- 22.9/46.2 MB 7.1 MB/s eta 0:00:04\n",
      "   ------------------- -------------------- 23.1/46.2 MB 7.0 MB/s eta 0:00:04\n",
      "   ------------------- -------------------- 23.1/46.2 MB 7.0 MB/s eta 0:00:04\n",
      "   ------------------- -------------------- 23.1/46.2 MB 7.0 MB/s eta 0:00:04\n",
      "   -------------------- ------------------- 23.2/46.2 MB 6.4 MB/s eta 0:00:04\n",
      "   -------------------- ------------------- 23.8/46.2 MB 6.4 MB/s eta 0:00:04\n",
      "   -------------------- ------------------- 24.2/46.2 MB 6.4 MB/s eta 0:00:04\n",
      "   --------------------- ------------------ 24.6/46.2 MB 6.4 MB/s eta 0:00:04\n",
      "   --------------------- ------------------ 25.0/46.2 MB 6.4 MB/s eta 0:00:04\n",
      "   --------------------- ------------------ 25.3/46.2 MB 6.4 MB/s eta 0:00:04\n",
      "   ---------------------- ----------------- 25.7/46.2 MB 6.3 MB/s eta 0:00:04\n",
      "   ---------------------- ----------------- 26.1/46.2 MB 6.4 MB/s eta 0:00:04\n",
      "   ---------------------- ----------------- 26.4/46.2 MB 6.4 MB/s eta 0:00:04\n",
      "   ----------------------- ---------------- 26.8/46.2 MB 6.5 MB/s eta 0:00:03\n",
      "   ----------------------- ---------------- 27.3/46.2 MB 7.0 MB/s eta 0:00:03\n",
      "   ----------------------- ---------------- 27.6/46.2 MB 7.0 MB/s eta 0:00:03\n",
      "   ------------------------ --------------- 28.1/46.2 MB 7.0 MB/s eta 0:00:03\n",
      "   ------------------------ --------------- 28.5/46.2 MB 7.0 MB/s eta 0:00:03\n",
      "   ------------------------- -------------- 29.0/46.2 MB 7.0 MB/s eta 0:00:03\n",
      "   ------------------------- -------------- 29.4/46.2 MB 7.0 MB/s eta 0:00:03\n",
      "   ------------------------- -------------- 29.7/46.2 MB 7.0 MB/s eta 0:00:03\n",
      "   -------------------------- ------------- 30.1/46.2 MB 7.0 MB/s eta 0:00:03\n",
      "   -------------------------- ------------- 30.5/46.2 MB 7.0 MB/s eta 0:00:03\n",
      "   -------------------------- ------------- 30.7/46.2 MB 6.8 MB/s eta 0:00:03\n",
      "   --------------------------- ------------ 31.2/46.2 MB 6.9 MB/s eta 0:00:03\n",
      "   --------------------------- ------------ 31.7/46.2 MB 7.0 MB/s eta 0:00:03\n",
      "   --------------------------- ------------ 32.2/46.2 MB 7.2 MB/s eta 0:00:02\n",
      "   ---------------------------- ----------- 32.7/46.2 MB 7.4 MB/s eta 0:00:02\n",
      "   ---------------------------- ----------- 33.2/46.2 MB 7.6 MB/s eta 0:00:02\n",
      "   ----------------------------- ---------- 33.6/46.2 MB 8.6 MB/s eta 0:00:02\n",
      "   ----------------------------- ---------- 33.9/46.2 MB 8.6 MB/s eta 0:00:02\n",
      "   ----------------------------- ---------- 34.3/46.2 MB 8.6 MB/s eta 0:00:02\n",
      "   ------------------------------ --------- 34.8/46.2 MB 8.7 MB/s eta 0:00:02\n",
      "   ------------------------------ --------- 35.1/46.2 MB 8.5 MB/s eta 0:00:02\n",
      "   ------------------------------ --------- 35.6/46.2 MB 8.6 MB/s eta 0:00:02\n",
      "   ------------------------------- -------- 35.9/46.2 MB 8.6 MB/s eta 0:00:02\n",
      "   ------------------------------- -------- 36.2/46.2 MB 8.6 MB/s eta 0:00:02\n",
      "   ------------------------------- -------- 36.6/46.2 MB 8.6 MB/s eta 0:00:02\n",
      "   -------------------------------- ------- 37.0/46.2 MB 8.6 MB/s eta 0:00:02\n",
      "   -------------------------------- ------- 37.6/46.2 MB 8.8 MB/s eta 0:00:01\n",
      "   -------------------------------- ------- 38.0/46.2 MB 9.0 MB/s eta 0:00:01\n",
      "   --------------------------------- ------ 38.4/46.2 MB 9.0 MB/s eta 0:00:01\n",
      "   --------------------------------- ------ 38.9/46.2 MB 8.7 MB/s eta 0:00:01\n",
      "   ---------------------------------- ----- 39.3/46.2 MB 8.7 MB/s eta 0:00:01\n",
      "   ---------------------------------- ----- 39.8/46.2 MB 8.7 MB/s eta 0:00:01\n",
      "   ---------------------------------- ----- 40.2/46.2 MB 9.0 MB/s eta 0:00:01\n",
      "   ----------------------------------- ---- 40.6/46.2 MB 9.0 MB/s eta 0:00:01\n",
      "   ----------------------------------- ---- 40.9/46.2 MB 8.7 MB/s eta 0:00:01\n",
      "   ----------------------------------- ---- 41.3/46.2 MB 8.6 MB/s eta 0:00:01\n",
      "   ----------------------------------- ---- 41.5/46.2 MB 8.6 MB/s eta 0:00:01\n",
      "   ------------------------------------ --- 42.0/46.2 MB 8.5 MB/s eta 0:00:01\n",
      "   ------------------------------------ --- 42.2/46.2 MB 8.6 MB/s eta 0:00:01\n",
      "   ------------------------------------ --- 42.7/46.2 MB 8.4 MB/s eta 0:00:01\n",
      "   ------------------------------------- -- 42.9/46.2 MB 8.4 MB/s eta 0:00:01\n",
      "   ------------------------------------- -- 43.3/46.2 MB 8.3 MB/s eta 0:00:01\n",
      "   ------------------------------------- -- 43.6/46.2 MB 8.2 MB/s eta 0:00:01\n",
      "   -------------------------------------- - 44.0/46.2 MB 8.2 MB/s eta 0:00:01\n",
      "   -------------------------------------- - 44.4/46.2 MB 8.1 MB/s eta 0:00:01\n",
      "   -------------------------------------- - 44.9/46.2 MB 8.2 MB/s eta 0:00:01\n",
      "   ---------------------------------------  45.3/46.2 MB 8.3 MB/s eta 0:00:01\n",
      "   ---------------------------------------  45.6/46.2 MB 8.3 MB/s eta 0:00:01\n",
      "   ---------------------------------------  45.9/46.2 MB 8.1 MB/s eta 0:00:01\n",
      "   ---------------------------------------  46.2/46.2 MB 8.0 MB/s eta 0:00:01\n",
      "   ---------------------------------------  46.2/46.2 MB 8.0 MB/s eta 0:00:01\n",
      "   ---------------------------------------  46.2/46.2 MB 8.0 MB/s eta 0:00:01\n",
      "   ---------------------------------------- 46.2/46.2 MB 7.2 MB/s eta 0:00:00\n",
      "Installing collected packages: scipy\n",
      "Successfully installed scipy-1.13.1\n",
      "Note: you may need to restart the kernel to use updated packages.\n"
     ]
    },
    {
     "name": "stderr",
     "output_type": "stream",
     "text": [
      "\n",
      "[notice] A new release of pip is available: 24.0 -> 24.1\n",
      "[notice] To update, run: python.exe -m pip install --upgrade pip\n"
     ]
    }
   ],
   "source": [
    "pip install scipy"
   ]
  },
  {
   "cell_type": "code",
   "execution_count": 37,
   "id": "f0412553",
   "metadata": {},
   "outputs": [],
   "source": [
    "from scipy import special   "
   ]
  },
  {
   "cell_type": "code",
   "execution_count": 39,
   "id": "fa644142",
   "metadata": {},
   "outputs": [
    {
     "name": "stdout",
     "output_type": "stream",
     "text": [
      "gamma9(x)   = [1.0000e+00 2.4000e+01 3.6288e+05]\n",
      "ln|gamma(x) = [ 0.          3.17805383 12.80182748]\n",
      "beta(x, 2)  = [0.5        0.03333333 0.00909091]\n"
     ]
    }
   ],
   "source": [
    "#감마 함수(일반화된 계승)와 관련 함수\n",
    "x = [1,5,10]\n",
    "print(\"gamma9(x)   =\", special.gamma(x))\n",
    "print(\"ln|gamma(x) =\", special.gammaln(x))\n",
    "print(\"beta(x, 2)  =\", special.beta(x,2))"
   ]
  },
  {
   "cell_type": "code",
   "execution_count": 44,
   "id": "39807465",
   "metadata": {},
   "outputs": [
    {
     "name": "stdout",
     "output_type": "stream",
     "text": [
      "erf(x)    = [0.         0.32862676 0.67780119 0.84270079]\n",
      "erfc(x)   = [1.         0.67137324 0.32219881 0.15729921]\n",
      "erfinv(x) = [0.         0.27246271 0.73286908        inf]\n"
     ]
    }
   ],
   "source": [
    "#오차 함수(가우스 적분), 그 보수(complement)와 역수(inverse)\n",
    "x = np.array([0, 0.3, 0.7, 1.0])\n",
    "print(\"erf(x)    =\", special.erf(x))\n",
    "print(\"erfc(x)   =\", special.erfc(x))\n",
    "print(\"erfinv(x) =\", special.erfinv(x))\n"
   ]
  },
  {
   "cell_type": "markdown",
   "id": "660d0d8f",
   "metadata": {},
   "source": [
    "## 고급 Ufunc 기능"
   ]
  },
  {
   "cell_type": "markdown",
   "id": "bafbc472",
   "metadata": {},
   "source": [
    "### 출력지정"
   ]
  },
  {
   "cell_type": "code",
   "execution_count": 45,
   "id": "f28042f7",
   "metadata": {},
   "outputs": [
    {
     "name": "stdout",
     "output_type": "stream",
     "text": [
      "[ 0. 10. 20. 30. 40.]\n"
     ]
    }
   ],
   "source": [
    "x = np.arange(5)\n",
    "y = np.empty(5)\n",
    "np.multiply(x, 10, out = y)\n",
    "print(y)"
   ]
  },
  {
   "cell_type": "code",
   "execution_count": null,
   "id": "55704e34-5c06-48ed-8cd2-fe79563f0fb0",
   "metadata": {},
   "outputs": [],
   "source": []
  },
  {
   "cell_type": "code",
   "execution_count": 86,
   "id": "ef790d9f-0736-4270-8dee-5cf802b7c95b",
   "metadata": {},
   "outputs": [
    {
     "name": "stdout",
     "output_type": "stream",
     "text": [
      "order,name,height(cm)\n",
      "1,George Washington,189\n",
      "2,John Adams,170\n",
      "3,Thomas Jefferson,189\n",
      "4,James Madison,163\n",
      "5,James Monroe,183\n",
      "6,John Quincy Adams,171\n",
      "7,Andrew Jackson,185\n",
      "8,Martin Van Buren,168\n",
      "9,William Henry Harrison,173\n",
      "10,John Tyler,183\n",
      "11,James K. Polk,173\n",
      "12,Zachary Taylor,173\n",
      "13,Millard Fillmore,175\n",
      "14,Franklin Pierce,178\n",
      "15,James Buchanan,183\n",
      "16,Abraham Lincoln,193\n",
      "17,Andrew Johnson,178\n",
      "18,Ulysses S. Grant,173\n",
      "19,Rutherford B. Hayes,174\n",
      "20,James A. Garfield,183\n",
      "21,Chester A. Arthur,183\n",
      "23,Benjamin Harrison,168\n",
      "25,William McKinley,170\n",
      "26,Theodore Roosevelt,178\n",
      "27,William Howard Taft,182\n",
      "28,Woodrow Wilson,180\n",
      "29,Warren G. Harding,183\n",
      "30,Calvin Coolidge,178\n",
      "31,Herbert Hoover,182\n",
      "32,Franklin D. Roosevelt,188\n",
      "33,Harry S. Truman,175\n",
      "34,Dwight D. Eisenhower,179\n",
      "35,John F. Kennedy,183\n",
      "36,Lyndon B. Johnson,193\n",
      "37,Richard Nixon,182\n",
      "38,Gerald Ford,183\n",
      "39,Jimmy Carter,177\n",
      "40,Ronald Reagan,185\n",
      "41,George H. W. Bush,188\n",
      "42,Bill Clinton,188\n",
      "43,George W. Bush,182\n",
      "44,Barack Obama,185\n"
     ]
    }
   ],
   "source": [
    "!type C:\\K_7\\k7_python\\ai_programming\\python-ds-handbook\\notebooks\\data\\president_heights.csv"
   ]
  },
  {
   "cell_type": "code",
   "execution_count": 87,
   "id": "d198cd04-94b1-48c0-a13e-3455c653ec86",
   "metadata": {},
   "outputs": [
    {
     "name": "stdout",
     "output_type": "stream",
     "text": [
      "['1,George', 'Washington,189']\n",
      "['2,John', 'Adams,170']\n",
      "['3,Thomas', 'Jefferson,189']\n",
      "['4,James', 'Madison,163']\n",
      "['5,James', 'Monroe,183']\n",
      "['6,John', 'Quincy', 'Adams,171']\n",
      "['7,Andrew', 'Jackson,185']\n",
      "['8,Martin', 'Van', 'Buren,168']\n",
      "['9,William', 'Henry', 'Harrison,173']\n",
      "['10,John', 'Tyler,183']\n",
      "['11,James', 'K.', 'Polk,173']\n",
      "['12,Zachary', 'Taylor,173']\n",
      "['13,Millard', 'Fillmore,175']\n",
      "['14,Franklin', 'Pierce,178']\n",
      "['15,James', 'Buchanan,183']\n",
      "['16,Abraham', 'Lincoln,193']\n",
      "['17,Andrew', 'Johnson,178']\n",
      "['18,Ulysses', 'S.', 'Grant,173']\n",
      "['19,Rutherford', 'B.', 'Hayes,174']\n",
      "['20,James', 'A.', 'Garfield,183']\n",
      "['21,Chester', 'A.', 'Arthur,183']\n",
      "['23,Benjamin', 'Harrison,168']\n",
      "['25,William', 'McKinley,170']\n",
      "['26,Theodore', 'Roosevelt,178']\n",
      "['27,William', 'Howard', 'Taft,182']\n",
      "['28,Woodrow', 'Wilson,180']\n",
      "['29,Warren', 'G.', 'Harding,183']\n",
      "['30,Calvin', 'Coolidge,178']\n",
      "['31,Herbert', 'Hoover,182']\n",
      "['32,Franklin', 'D.', 'Roosevelt,188']\n",
      "['33,Harry', 'S.', 'Truman,175']\n",
      "['34,Dwight', 'D.', 'Eisenhower,179']\n",
      "['35,John', 'F.', 'Kennedy,183']\n",
      "['36,Lyndon', 'B.', 'Johnson,193']\n",
      "['37,Richard', 'Nixon,182']\n",
      "['38,Gerald', 'Ford,183']\n",
      "['39,Jimmy', 'Carter,177']\n",
      "['40,Ronald', 'Reagan,185']\n",
      "['41,George', 'H.', 'W.', 'Bush,188']\n",
      "['42,Bill', 'Clinton,188']\n",
      "['43,George', 'W.', 'Bush,182']\n",
      "['44,Barack', 'Obama,185']\n"
     ]
    }
   ],
   "source": [
    "with open('C:/K_7/k7_python/ai_programming/python-ds-handbook/notebooks/data/president_heights.csv') as f:\n",
    "\n",
    "    f.readline()\n",
    "    heights=[]\n",
    "    for line in f.readlines():\n",
    "        print(line.rstrip().split())\n",
    "        heights.append(int(line.rstrip().split(',')[-1]))"
   ]
  },
  {
   "cell_type": "code",
   "execution_count": 88,
   "id": "bb8ef9f4-ecc1-478f-930a-5a9db62ff155",
   "metadata": {},
   "outputs": [
    {
     "data": {
      "text/plain": [
       "(179.73809523809524, numpy.float64)"
      ]
     },
     "execution_count": 88,
     "metadata": {},
     "output_type": "execute_result"
    }
   ],
   "source": [
    "heights_np = np.asarray(heights)\n",
    "np.average(heights_np), type(np.average(heights_np))"
   ]
  },
  {
   "cell_type": "code",
   "execution_count": 91,
   "id": "6a277999-9781-4a9f-af86-27849eba548a",
   "metadata": {},
   "outputs": [
    {
     "data": {
      "text/plain": [
       "(array([ 1.,  2.,  3.,  5.,  3.,  6., 12.,  3.,  5.,  2.]),\n",
       " array([163., 166., 169., 172., 175., 178., 181., 184., 187., 190., 193.]),\n",
       " <BarContainer object of 10 artists>)"
      ]
     },
     "execution_count": 91,
     "metadata": {},
     "output_type": "execute_result"
    },
    {
     "data": {
      "image/png": "[encoded data removed]",
      "text/plain": [
       "<Figure size 640x480 with 1 Axes>"
      ]
     },
     "metadata": {},
     "output_type": "display_data"
    }
   ],
   "source": [
    "import matplotlib.pyplot as plt\n",
    "plt.hist(heights)"
   ]
  },
  {
   "cell_type": "markdown",
   "id": "c3b0fc76-6f42-439c-a3b1-ae968f815339",
   "metadata": {},
   "source": [
    "## broadcasting"
   ]
  },
  {
   "cell_type": "code",
   "execution_count": 92,
   "id": "c7d0cf30-217f-4ab9-9f83-45e9da0da8c3",
   "metadata": {},
   "outputs": [
    {
     "data": {
      "text/plain": [
       "array([4, 5, 6])"
      ]
     },
     "execution_count": 92,
     "metadata": {},
     "output_type": "execute_result"
    }
   ],
   "source": [
    "np.array([1,2,3]) + np.array([3,3,3])"
   ]
  },
  {
   "cell_type": "code",
   "execution_count": 93,
   "id": "4ee28d37-5785-4564-9ba8-3bdb337e10f8",
   "metadata": {},
   "outputs": [
    {
     "data": {
      "text/plain": [
       "array([4, 5, 6])"
      ]
     },
     "execution_count": 93,
     "metadata": {},
     "output_type": "execute_result"
    }
   ],
   "source": [
    "np.array([1,2,3]) + np.array([3])"
   ]
  },
  {
   "cell_type": "code",
   "execution_count": 94,
   "id": "636d2d83-1d88-4d5e-b8b6-6b3195c04a27",
   "metadata": {},
   "outputs": [
    {
     "data": {
      "text/plain": [
       "array([5, 6, 7])"
      ]
     },
     "execution_count": 94,
     "metadata": {},
     "output_type": "execute_result"
    }
   ],
   "source": [
    "a = np.array([0,1,2])\n",
    "b = np.array([5,5,5])\n",
    "a+b"
   ]
  },
  {
   "cell_type": "code",
   "execution_count": 95,
   "id": "12ddac71-45e4-4043-aeab-090e478b7042",
   "metadata": {},
   "outputs": [
    {
     "data": {
      "text/plain": [
       "array([5, 6, 7])"
      ]
     },
     "execution_count": 95,
     "metadata": {},
     "output_type": "execute_result"
    }
   ],
   "source": [
    "a + 5"
   ]
  },
  {
   "cell_type": "code",
   "execution_count": 96,
   "id": "4b5e569c-5f25-48d9-96e0-18c475643e18",
   "metadata": {},
   "outputs": [
    {
     "data": {
      "text/plain": [
       "array([[1., 1., 1.],\n",
       "       [1., 1., 1.],\n",
       "       [1., 1., 1.]])"
      ]
     },
     "execution_count": 96,
     "metadata": {},
     "output_type": "execute_result"
    }
   ],
   "source": [
    "M = np.ones((3,3))\n",
    "M"
   ]
  },
  {
   "cell_type": "code",
   "execution_count": 97,
   "id": "399d21f5-b523-4847-8955-697247149ad0",
   "metadata": {},
   "outputs": [
    {
     "data": {
      "text/plain": [
       "array([[1., 2., 3.],\n",
       "       [1., 2., 3.],\n",
       "       [1., 2., 3.]])"
      ]
     },
     "execution_count": 97,
     "metadata": {},
     "output_type": "execute_result"
    }
   ],
   "source": [
    "M+a"
   ]
  },
  {
   "cell_type": "code",
   "execution_count": 98,
   "id": "f70ec4ab-46a1-4bbc-984a-b854c4aa98e5",
   "metadata": {},
   "outputs": [
    {
     "name": "stdout",
     "output_type": "stream",
     "text": [
      "[0 1 2]\n",
      "[[0]\n",
      " [1]\n",
      " [2]]\n"
     ]
    }
   ],
   "source": [
    "a = np.arange(3)\n",
    "b = np.arange(3)[:, np.newaxis]\n",
    "print(a)\n",
    "print(b)"
   ]
  },
  {
   "cell_type": "code",
   "execution_count": 99,
   "id": "956967e1-4283-45ea-9a2d-8e1acb178423",
   "metadata": {},
   "outputs": [
    {
     "data": {
      "text/plain": [
       "array([[0, 1, 2],\n",
       "       [1, 2, 3],\n",
       "       [2, 3, 4]])"
      ]
     },
     "execution_count": 99,
     "metadata": {},
     "output_type": "execute_result"
    }
   ],
   "source": [
    "a+b"
   ]
  },
  {
   "cell_type": "code",
   "execution_count": 102,
   "id": "fa3f0d9d-5b16-45f5-88d0-638eec64e6c8",
   "metadata": {},
   "outputs": [],
   "source": [
    "M = np.ones((2,3))\n",
    "a = np.arange(3)"
   ]
  },
  {
   "cell_type": "code",
   "execution_count": 104,
   "id": "e52807aa-c06e-4e84-a2f3-ee81ba0801fa",
   "metadata": {},
   "outputs": [
    {
     "data": {
      "text/plain": [
       "(2, 3)"
      ]
     },
     "execution_count": 104,
     "metadata": {},
     "output_type": "execute_result"
    }
   ],
   "source": [
    "M.shape"
   ]
  },
  {
   "cell_type": "code",
   "execution_count": 105,
   "id": "8a070775-e6e9-4a2a-92b4-e9f56b2e94bc",
   "metadata": {},
   "outputs": [
    {
     "data": {
      "text/plain": [
       "(3,)"
      ]
     },
     "execution_count": 105,
     "metadata": {},
     "output_type": "execute_result"
    }
   ],
   "source": [
    "a.shape"
   ]
  },
  {
   "cell_type": "code",
   "execution_count": 106,
   "id": "37648bd5-cf98-453e-8547-549b013a2fdd",
   "metadata": {},
   "outputs": [
    {
     "data": {
      "text/plain": [
       "array([[1., 2., 3.],\n",
       "       [1., 2., 3.]])"
      ]
     },
     "execution_count": 106,
     "metadata": {},
     "output_type": "execute_result"
    }
   ],
   "source": [
    "M + a"
   ]
  },
  {
   "cell_type": "code",
   "execution_count": 107,
   "id": "ae635a17-44a1-4aa6-b44c-b4e203958942",
   "metadata": {},
   "outputs": [],
   "source": [
    "a = np.arange(3).reshape((3,1))\n",
    "b = np.arange(3)"
   ]
  },
  {
   "cell_type": "code",
   "execution_count": 108,
   "id": "beee1938-ef39-41fe-aac1-de88312ac8f4",
   "metadata": {},
   "outputs": [
    {
     "data": {
      "text/plain": [
       "(3, 1)"
      ]
     },
     "execution_count": 108,
     "metadata": {},
     "output_type": "execute_result"
    }
   ],
   "source": [
    "a.shape"
   ]
  },
  {
   "cell_type": "code",
   "execution_count": 109,
   "id": "1cf81899-bbf2-4d80-b195-b0cd30a0160b",
   "metadata": {},
   "outputs": [
    {
     "data": {
      "text/plain": [
       "(3,)"
      ]
     },
     "execution_count": 109,
     "metadata": {},
     "output_type": "execute_result"
    }
   ],
   "source": [
    "b.shape"
   ]
  },
  {
   "cell_type": "code",
   "execution_count": 110,
   "id": "a54d5188-0e6c-499d-87bb-42ac7bb67ce2",
   "metadata": {},
   "outputs": [
    {
     "data": {
      "text/plain": [
       "array([[0, 1, 2],\n",
       "       [1, 2, 3],\n",
       "       [2, 3, 4]])"
      ]
     },
     "execution_count": 110,
     "metadata": {},
     "output_type": "execute_result"
    }
   ],
   "source": [
    "a + b"
   ]
  },
  {
   "cell_type": "code",
   "execution_count": 111,
   "id": "40bbc144-4d0a-420c-b4ea-35ab5307f49f",
   "metadata": {},
   "outputs": [],
   "source": [
    "M = np.ones((3,2))\n",
    "a = np.arange(3)"
   ]
  },
  {
   "cell_type": "code",
   "execution_count": 112,
   "id": "1984071b-c8bb-4f9e-b0ed-7b1227d74db7",
   "metadata": {},
   "outputs": [
    {
     "data": {
      "text/plain": [
       "(3, 2)"
      ]
     },
     "execution_count": 112,
     "metadata": {},
     "output_type": "execute_result"
    }
   ],
   "source": [
    "M.shape"
   ]
  },
  {
   "cell_type": "code",
   "execution_count": 113,
   "id": "49403a2a-4299-486b-b9dc-d976225b32ea",
   "metadata": {},
   "outputs": [
    {
     "data": {
      "text/plain": [
       "(3,)"
      ]
     },
     "execution_count": 113,
     "metadata": {},
     "output_type": "execute_result"
    }
   ],
   "source": [
    "a.shape"
   ]
  },
  {
   "cell_type": "code",
   "execution_count": 114,
   "id": "1a801738-c77e-4a3e-9afc-bb3785c9f6ed",
   "metadata": {},
   "outputs": [
    {
     "ename": "ValueError",
     "evalue": "operands could not be broadcast together with shapes (3,2) (3,) ",
     "output_type": "error",
     "traceback": [
      "\u001b[1;31m---------------------------------------------------------------------------\u001b[0m",
      "\u001b[1;31mValueError\u001b[0m                                Traceback (most recent call last)",
      "Cell \u001b[1;32mIn[114], line 1\u001b[0m\n\u001b[1;32m----> 1\u001b[0m \u001b[43mM\u001b[49m\u001b[43m \u001b[49m\u001b[38;5;241;43m+\u001b[39;49m\u001b[43m \u001b[49m\u001b[43ma\u001b[49m\n",
      "\u001b[1;31mValueError\u001b[0m: operands could not be broadcast together with shapes (3,2) (3,) "
     ]
    }
   ],
   "source": [
    "M + a"
   ]
  },
  {
   "cell_type": "code",
   "execution_count": 115,
   "id": "72ddad66-2e7c-416d-977a-4984603216a1",
   "metadata": {},
   "outputs": [
    {
     "data": {
      "text/plain": [
       "(3, 1)"
      ]
     },
     "execution_count": 115,
     "metadata": {},
     "output_type": "execute_result"
    }
   ],
   "source": [
    "a[:, np.newaxis].shape"
   ]
  },
  {
   "cell_type": "code",
   "execution_count": 116,
   "id": "1f0b9a03-1529-4a7c-b5e4-31990aecc26b",
   "metadata": {},
   "outputs": [
    {
     "data": {
      "text/plain": [
       "array([[1., 1.],\n",
       "       [2., 2.],\n",
       "       [3., 3.]])"
      ]
     },
     "execution_count": 116,
     "metadata": {},
     "output_type": "execute_result"
    }
   ],
   "source": [
    "M + a[:,np.newaxis]"
   ]
  },
  {
   "cell_type": "code",
   "execution_count": 117,
   "id": "08406f76-e0dd-4e0d-8224-d1804a14587e",
   "metadata": {},
   "outputs": [
    {
     "data": {
      "text/plain": [
       "array([[1.31326169, 1.31326169],\n",
       "       [1.69314718, 1.69314718],\n",
       "       [2.31326169, 2.31326169]])"
      ]
     },
     "execution_count": 117,
     "metadata": {},
     "output_type": "execute_result"
    }
   ],
   "source": [
    "np.logaddexp(M,a[:, np.newaxis])"
   ]
  },
  {
   "cell_type": "code",
   "execution_count": 143,
   "id": "5c2ab6e7-aa68-465a-9644-79da55feced8",
   "metadata": {},
   "outputs": [
    {
     "data": {
      "text/plain": [
       "array([[0.05227066, 0.48580992, 0.20355322],\n",
       "       [0.34687991, 0.29501734, 0.19536525],\n",
       "       [0.46714022, 0.04901593, 0.2089102 ],\n",
       "       [0.79997285, 0.04127783, 0.54472742],\n",
       "       [0.12805193, 0.90417508, 0.325598  ],\n",
       "       [0.50632078, 0.53081297, 0.57099019],\n",
       "       [0.2187591 , 0.06256055, 0.83613312],\n",
       "       [0.88376473, 0.16128479, 0.28352351],\n",
       "       [0.5714313 , 0.05840797, 0.23899063],\n",
       "       [0.71973644, 0.78678134, 0.20203702]])"
      ]
     },
     "execution_count": 143,
     "metadata": {},
     "output_type": "execute_result"
    }
   ],
   "source": [
    "x = np.random.random((10, 3))\n",
    "x"
   ]
  },
  {
   "cell_type": "code",
   "execution_count": 144,
   "id": "43a72c4b-790c-4837-be2b-27d06addc7b5",
   "metadata": {},
   "outputs": [
    {
     "data": {
      "text/plain": [
       "array([0.46943279, 0.33751437, 0.36098286])"
      ]
     },
     "execution_count": 144,
     "metadata": {},
     "output_type": "execute_result"
    }
   ],
   "source": [
    "np.mean(x, axis=0)"
   ]
  },
  {
   "cell_type": "code",
   "execution_count": 146,
   "id": "594deb19-b917-4a70-ab01-b7b3eba4c5d9",
   "metadata": {},
   "outputs": [
    {
     "data": {
      "text/plain": [
       "(10, 3)"
      ]
     },
     "execution_count": 146,
     "metadata": {},
     "output_type": "execute_result"
    }
   ],
   "source": [
    "centered_x = x -np.mean(x, axis=0)\n",
    "centered_x.shape"
   ]
  },
  {
   "cell_type": "code",
   "execution_count": 147,
   "id": "c8ec8c85-4379-46e7-8358-63cc88c8417c",
   "metadata": {},
   "outputs": [
    {
     "data": {
      "text/plain": [
       "-1.6653345369377348e-16"
      ]
     },
     "execution_count": 147,
     "metadata": {},
     "output_type": "execute_result"
    }
   ],
   "source": [
    "np.sum(centered_x)"
   ]
  },
  {
   "cell_type": "code",
   "execution_count": 148,
   "id": "41949480-e9db-498b-b999-c0c2a97aa5be",
   "metadata": {},
   "outputs": [],
   "source": [
    "#x와 y는 0에서 5까지 50단계로 나눈 배열임\n",
    "x = np.linspace(0,5,50)\n",
    "y = np.linspace(0,5,50)[:, np.newaxis]\n",
    "z = np.sin(x)**10 + np.cos(10 + y * x) * np.cos(x)"
   ]
  },
  {
   "cell_type": "code",
   "execution_count": 151,
   "id": "294b5847-b81c-4a60-bfc3-ced354dce8f6",
   "metadata": {},
   "outputs": [],
   "source": [
    "%matplotlib inline\n",
    "import matplotlib.pyplot as plt"
   ]
  },
  {
   "cell_type": "code",
   "execution_count": 152,
   "id": "b2e089fb-9751-4922-8bcb-fdc4b1929576",
   "metadata": {},
   "outputs": [
    {
     "data": {
      "text/plain": [
       "<matplotlib.colorbar.Colorbar at 0x2183ba54850>"
      ]
     },
     "execution_count": 152,
     "metadata": {},
     "output_type": "execute_result"
    },
    {
     "data": {
      "image/png": "[encoded data removed]",
      "text/plain": [
       "<Figure size 640x480 with 2 Axes>"
      ]
     },
     "metadata": {},
     "output_type": "display_data"
    }
   ],
   "source": [
    "plt.imshow(z, origin='lower', extent=[0,5,0,5], cmap='viridis')\n",
    "plt.colorbar()"
   ]
  },
  {
   "cell_type": "code",
   "execution_count": 138,
   "id": "5aecf95a-18b4-4a13-a688-830688da0d39",
   "metadata": {
    "scrolled": true
   },
   "outputs": [
    {
     "name": "stdout",
     "output_type": "stream",
     "text": [
      "STATION,STATION_NAME,DATE,PRCP,SNWD,SNOW,TMAX,TMIN,AWND,WDF2,WDF5,WSF2,WSF5,WT01,WT05,WT02,WT03\n",
      "GHCND:USW00024233,SEATTLE TACOMA INTERNATIONAL AIRPORT WA US,20140101,0,0,0,72,33,12,340,310,36,40,-9999,-9999,-9999,-9999\n",
      "GHCND:USW00024233,SEATTLE TACOMA INTERNATIONAL AIRPORT WA US,20140102,41,0,0,106,61,32,190,200,94,116,-9999,-9999,-9999,-9999\n",
      "GHCND:USW00024233,SEATTLE TACOMA INTERNATIONAL AIRPORT WA US,20140103,15,0,0,89,28,26,30,50,63,72,1,-9999,-9999,-9999\n",
      "GHCND:USW00024233,SEATTLE TACOMA INTERNATIONAL AIRPORT WA US,20140104,0,0,0,78,6,27,40,40,45,58,1,-9999,-9999,-9999\n",
      "GHCND:USW00024233,SEATTLE TACOMA INTERNATIONAL AIRPORT WA US,20140105,0,0,0,83,-5,37,10,10,67,76,-9999,-9999,-9999,-9999\n",
      "GHCND:USW00024233,SEATTLE TACOMA INTERNATIONAL AIRPORT WA US,20140106,3,0,0,78,-5,26,210,210,112,125,1,-9999,-9999,-9999\n",
      "GHCND:USW00024233,SEATTLE TACOMA INTERNATIONAL AIRPORT WA US,20140107,122,0,0,83,50,16,160,150,45,54,-9999,-9999,-9999,-9999\n",
      "GHCND:USW00024233,SEATTLE TACOMA INTERNATIONAL AIRPORT WA US,20140108,97,0,0,100,72,46,180,180,107,143,1,-9999,-9999,-9999\n",
      "GHCND:USW00024233,SEATTLE TACOMA INTERNATIONAL AIRPORT WA US,20140109,58,0,0,94,56,63,210,230,143,183,1,-9999,-9999,-9999\n",
      "GHCND:USW00024233,SEATTLE TACOMA INTERNATIONAL AIRPORT WA US,20140110,43,0,0,128,83,70,200,200,134,183,-9999,-9999,-9999,-9999\n",
      "GHCND:USW00024233,SEATTLE TACOMA INTERNATIONAL AIRPORT WA US,20140111,213,0,0,144,72,88,210,200,183,250,1,-9999,-9999,-9999\n",
      "GHCND:USW00024233,SEATTLE TACOMA INTERNATIONAL AIRPORT WA US,20140112,15,0,0,111,56,81,200,210,134,174,1,-9999,-9999,-9999\n",
      "GHCND:USW00024233,SEATTLE TACOMA INTERNATIONAL AIRPORT WA US,20140113,0,0,0,106,100,71,200,210,148,201,-9999,-9999,-9999,-9999\n",
      "GHCND:USW00024233,SEATTLE TACOMA INTERNATIONAL AIRPORT WA US,20140114,0,0,0,111,72,13,180,180,58,72,-9999,-9999,-9999,-9999\n",
      "GHCND:USW00024233,SEATTLE TACOMA INTERNATIONAL AIRPORT WA US,20140115,0,0,0,111,56,25,20,10,58,67,-9999,-9999,-9999,-9999\n",
      "GHCND:USW00024233,SEATTLE TACOMA INTERNATIONAL AIRPORT WA US,20140116,0,0,0,67,44,27,30,30,63,67,-9999,-9999,-9999,-9999\n",
      "GHCND:USW00024233,SEATTLE TACOMA INTERNATIONAL AIRPORT WA US,20140117,0,0,0,56,28,23,30,10,45,58,-9999,-9999,-9999,-9999\n",
      "GHCND:USW00024233,SEATTLE TACOMA INTERNATIONAL AIRPORT WA US,20140118,0,0,0,94,6,22,120,120,63,67,-9999,-9999,-9999,-9999\n",
      "GHCND:USW00024233,SEATTLE TACOMA INTERNATIONAL AIRPORT WA US,20140119,0,0,0,61,33,25,30,-9999,40,-9999,-9999,-9999,-9999,-9999\n",
      "GHCND:USW00024233,SEATTLE TACOMA INTERNATIONAL AIRPORT WA US,20140120,0,0,0,100,28,22,20,10,54,63,-9999,-9999,-9999,-9999\n",
      "GHCND:USW00024233,SEATTLE TACOMA INTERNATIONAL AIRPORT WA US,20140121,0,0,0,100,17,15,240,240,72,94,-9999,-9999,-9999,-9999\n",
      "GHCND:USW00024233,SEATTLE TACOMA INTERNATIONAL AIRPORT WA US,20140122,5,0,0,94,56,26,40,40,72,98,-9999,-9999,-9999,-9999\n",
      "GHCND:USW00024233,SEATTLE TACOMA INTERNATIONAL AIRPORT WA US,20140123,0,0,0,100,28,52,20,20,103,125,1,-9999,-9999,-9999\n",
      "GHCND:USW00024233,SEATTLE TACOMA INTERNATIONAL AIRPORT WA US,20140124,0,0,0,128,11,19,10,10,45,58,-9999,-9999,-9999,-9999\n",
      "GHCND:USW00024233,SEATTLE TACOMA INTERNATIONAL AIRPORT WA US,20140125,0,0,0,122,11,8,110,120,45,54,-9999,-9999,-9999,-9999\n",
      "GHCND:USW00024233,SEATTLE TACOMA INTERNATIONAL AIRPORT WA US,20140126,0,0,0,83,6,13,270,270,36,40,-9999,-9999,-9999,-9999\n",
      "GHCND:USW00024233,SEATTLE TACOMA INTERNATIONAL AIRPORT WA US,20140127,0,0,0,94,17,13,130,130,40,54,-9999,-9999,-9999,-9999\n",
      "GHCND:USW00024233,SEATTLE TACOMA INTERNATIONAL AIRPORT WA US,20140128,89,0,0,111,61,16,40,40,40,54,1,-9999,-9999,-9999\n",
      "GHCND:USW00024233,SEATTLE TACOMA INTERNATIONAL AIRPORT WA US,20140129,216,0,0,111,72,34,210,200,89,112,1,-9999,-9999,-9999\n",
      "GHCND:USW00024233,SEATTLE TACOMA INTERNATIONAL AIRPORT WA US,20140130,0,0,0,83,61,64,210,210,103,139,-9999,-9999,-9999,-9999\n",
      "GHCND:USW00024233,SEATTLE TACOMA INTERNATIONAL AIRPORT WA US,20140131,23,0,0,78,56,26,200,200,67,81,1,-9999,-9999,-9999\n",
      "GHCND:USW00024233,SEATTLE TACOMA INTERNATIONAL AIRPORT WA US,20140201,20,0,0,78,28,8,30,280,40,54,-9999,-9999,-9999,-9999\n",
      "GHCND:USW00024233,SEATTLE TACOMA INTERNATIONAL AIRPORT WA US,20140202,0,0,0,89,11,25,330,350,72,94,-9999,-9999,-9999,-9999\n",
      "GHCND:USW00024233,SEATTLE TACOMA INTERNATIONAL AIRPORT WA US,20140203,0,0,0,50,0,43,350,340,98,130,-9999,-9999,-9999,-9999\n",
      "GHCND:USW00024233,SEATTLE TACOMA INTERNATIONAL AIRPORT WA US,20140204,0,0,0,28,-21,47,80,90,89,112,-9999,-9999,-9999,-9999\n",
      "GHCND:USW00024233,SEATTLE TACOMA INTERNATIONAL AIRPORT WA US,20140205,0,0,0,-5,-55,66,80,180,103,174,-9999,-9999,-9999,-9999\n",
      "GHCND:USW00024233,SEATTLE TACOMA INTERNATIONAL AIRPORT WA US,20140206,0,0,0,-16,-60,45,70,80,81,103,-9999,-9999,-9999,-9999\n",
      "GHCND:USW00024233,SEATTLE TACOMA INTERNATIONAL AIRPORT WA US,20140207,0,0,0,33,-49,42,10,10,98,112,-9999,-9999,-9999,-9999\n",
      "GHCND:USW00024233,SEATTLE TACOMA INTERNATIONAL AIRPORT WA US,20140208,51,0,74,56,-5,46,110,110,116,148,1,-9999,-9999,-9999\n",
      "GHCND:USW00024233,SEATTLE TACOMA INTERNATIONAL AIRPORT WA US,20140209,5,80,0,39,0,24,150,150,58,67,1,-9999,-9999,-9999\n",
      "GHCND:USW00024233,SEATTLE TACOMA INTERNATIONAL AIRPORT WA US,20140210,183,0,0,100,22,47,210,200,103,134,1,-9999,-9999,-9999\n",
      "GHCND:USW00024233,SEATTLE TACOMA INTERNATIONAL AIRPORT WA US,20140211,170,0,0,122,56,38,160,160,94,107,1,-9999,-9999,-9999\n",
      "GHCND:USW00024233,SEATTLE TACOMA INTERNATIONAL AIRPORT WA US,20140212,46,0,0,122,72,64,220,210,157,219,1,-9999,-9999,-9999\n",
      "GHCND:USW00024233,SEATTLE TACOMA INTERNATIONAL AIRPORT WA US,20140213,18,0,0,128,78,63,220,220,125,174,1,-9999,-9999,-9999\n",
      "GHCND:USW00024233,SEATTLE TACOMA INTERNATIONAL AIRPORT WA US,20140214,94,0,0,117,61,64,200,220,112,139,1,-9999,-9999,-9999\n",
      "GHCND:USW00024233,SEATTLE TACOMA INTERNATIONAL AIRPORT WA US,20140215,117,0,0,111,50,51,210,220,161,233,1,-9999,-9999,-9999\n",
      "GHCND:USW00024233,SEATTLE TACOMA INTERNATIONAL AIRPORT WA US,20140216,264,0,0,94,39,79,230,220,130,183,1,-9999,-9999,-9999\n",
      "GHCND:USW00024233,SEATTLE TACOMA INTERNATIONAL AIRPORT WA US,20140217,145,0,0,83,44,55,220,220,103,134,1,-9999,-9999,-9999\n",
      "GHCND:USW00024233,SEATTLE TACOMA INTERNATIONAL AIRPORT WA US,20140218,152,0,0,89,50,62,220,220,143,183,1,-9999,-9999,-9999\n",
      "GHCND:USW00024233,SEATTLE TACOMA INTERNATIONAL AIRPORT WA US,20140219,10,0,0,83,39,60,210,210,94,125,-9999,-9999,-9999,-9999\n",
      "GHCND:USW00024233,SEATTLE TACOMA INTERNATIONAL AIRPORT WA US,20140220,30,0,0,100,56,69,220,210,134,170,1,-9999,-9999,-9999\n",
      "GHCND:USW00024233,SEATTLE TACOMA INTERNATIONAL AIRPORT WA US,20140221,28,0,0,67,39,29,240,230,67,94,1,-9999,-9999,-9999\n",
      "GHCND:USW00024233,SEATTLE TACOMA INTERNATIONAL AIRPORT WA US,20140222,25,0,0,56,28,31,160,130,58,76,1,-9999,-9999,-9999\n",
      "GHCND:USW00024233,SEATTLE TACOMA INTERNATIONAL AIRPORT WA US,20140223,61,0,0,72,39,26,170,180,58,67,1,-9999,-9999,-9999\n",
      "GHCND:USW00024233,SEATTLE TACOMA INTERNATIONAL AIRPORT WA US,20140224,130,0,0,67,33,32,10,10,54,63,1,-9999,-9999,-9999\n",
      "GHCND:USW00024233,SEATTLE TACOMA INTERNATIONAL AIRPORT WA US,20140225,3,0,0,122,39,45,10,80,72,81,1,-9999,-9999,-9999\n",
      "GHCND:USW00024233,SEATTLE TACOMA INTERNATIONAL AIRPORT WA US,20140226,0,0,0,139,56,25,30,90,54,67,-9999,-9999,-9999,-9999\n",
      "GHCND:USW00024233,SEATTLE TACOMA INTERNATIONAL AIRPORT WA US,20140227,0,0,0,128,44,23,10,10,63,67,-9999,-9999,-9999,-9999\n",
      "GHCND:USW00024233,SEATTLE TACOMA INTERNATIONAL AIRPORT WA US,20140228,0,0,0,144,44,59,20,10,107,134,-9999,-9999,-9999,-9999\n",
      "GHCND:USW00024233,SEATTLE TACOMA INTERNATIONAL AIRPORT WA US,20140301,5,0,0,72,44,47,110,120,76,94,-9999,-9999,-9999,-9999\n",
      "GHCND:USW00024233,SEATTLE TACOMA INTERNATIONAL AIRPORT WA US,20140302,191,0,0,111,28,57,210,180,107,139,1,-9999,-9999,-9999\n",
      "GHCND:USW00024233,SEATTLE TACOMA INTERNATIONAL AIRPORT WA US,20140303,107,0,0,144,89,51,200,240,89,134,1,-9999,-9999,-9999\n",
      "GHCND:USW00024233,SEATTLE TACOMA INTERNATIONAL AIRPORT WA US,20140304,165,0,0,139,78,39,200,210,89,116,1,-9999,-9999,-9999\n",
      "GHCND:USW00024233,SEATTLE TACOMA INTERNATIONAL AIRPORT WA US,20140305,467,0,0,156,106,39,190,200,112,157,1,-9999,-9999,-9999\n",
      "GHCND:USW00024233,SEATTLE TACOMA INTERNATIONAL AIRPORT WA US,20140306,30,0,0,133,100,62,220,220,125,174,1,-9999,-9999,-9999\n",
      "GHCND:USW00024233,SEATTLE TACOMA INTERNATIONAL AIRPORT WA US,20140307,0,0,0,156,89,42,220,210,94,116,-9999,-9999,-9999,-9999\n",
      "GHCND:USW00024233,SEATTLE TACOMA INTERNATIONAL AIRPORT WA US,20140308,323,0,0,128,67,27,200,210,76,103,1,-9999,-9999,-9999\n",
      "GHCND:USW00024233,SEATTLE TACOMA INTERNATIONAL AIRPORT WA US,20140309,43,0,0,150,94,43,210,220,76,112,1,-9999,-9999,-9999\n",
      "GHCND:USW00024233,SEATTLE TACOMA INTERNATIONAL AIRPORT WA US,20140310,188,0,0,122,61,22,210,200,54,67,1,-9999,-9999,-9999\n",
      "GHCND:USW00024233,SEATTLE TACOMA INTERNATIONAL AIRPORT WA US,20140311,0,0,0,144,44,23,20,30,54,63,1,-9999,-9999,-9999\n",
      "GHCND:USW00024233,SEATTLE TACOMA INTERNATIONAL AIRPORT WA US,20140312,0,0,0,161,33,19,10,20,67,81,1,-9999,-9999,-9999\n",
      "GHCND:USW00024233,SEATTLE TACOMA INTERNATIONAL AIRPORT WA US,20140313,5,0,0,139,50,25,230,220,58,76,1,-9999,-9999,-9999\n",
      "GHCND:USW00024233,SEATTLE TACOMA INTERNATIONAL AIRPORT WA US,20140314,69,0,0,144,83,61,220,200,107,143,1,-9999,-9999,-9999\n",
      "GHCND:USW00024233,SEATTLE TACOMA INTERNATIONAL AIRPORT WA US,20140315,81,0,0,167,44,30,200,210,76,103,1,-9999,-9999,-9999\n",
      "GHCND:USW00024233,SEATTLE TACOMA INTERNATIONAL AIRPORT WA US,20140316,277,0,0,106,44,38,230,240,76,103,1,-9999,-9999,-9999\n",
      "GHCND:USW00024233,SEATTLE TACOMA INTERNATIONAL AIRPORT WA US,20140317,3,0,0,100,28,32,190,90,89,143,1,-9999,-9999,-9999\n",
      "GHCND:USW00024233,SEATTLE TACOMA INTERNATIONAL AIRPORT WA US,20140318,0,0,0,100,33,16,140,100,45,58,-9999,-9999,-9999,-9999\n",
      "GHCND:USW00024233,SEATTLE TACOMA INTERNATIONAL AIRPORT WA US,20140319,5,0,0,111,33,51,200,200,107,143,-9999,-9999,-9999,-9999\n",
      "GHCND:USW00024233,SEATTLE TACOMA INTERNATIONAL AIRPORT WA US,20140320,0,0,0,111,17,30,30,40,72,81,-9999,-9999,-9999,-9999\n",
      "GHCND:USW00024233,SEATTLE TACOMA INTERNATIONAL AIRPORT WA US,20140321,0,0,0,106,28,38,340,340,67,94,-9999,-9999,-9999,-9999\n",
      "GHCND:USW00024233,SEATTLE TACOMA INTERNATIONAL AIRPORT WA US,20140322,0,0,0,111,11,18,330,120,40,58,-9999,-9999,-9999,-9999\n",
      "GHCND:USW00024233,SEATTLE TACOMA INTERNATIONAL AIRPORT WA US,20140323,0,0,0,128,44,33,30,290,49,72,-9999,-9999,-9999,-9999\n",
      "GHCND:USW00024233,SEATTLE TACOMA INTERNATIONAL AIRPORT WA US,20140324,0,0,0,189,28,22,160,170,40,45,-9999,-9999,-9999,-9999\n",
      "GHCND:USW00024233,SEATTLE TACOMA INTERNATIONAL AIRPORT WA US,20140325,41,0,0,139,67,44,200,190,134,192,1,-9999,-9999,-9999\n",
      "GHCND:USW00024233,SEATTLE TACOMA INTERNATIONAL AIRPORT WA US,20140326,36,0,0,111,56,24,190,210,54,76,1,-9999,-9999,-9999\n",
      "GHCND:USW00024233,SEATTLE TACOMA INTERNATIONAL AIRPORT WA US,20140327,3,0,0,122,67,28,320,330,103,134,1,-9999,-9999,-9999\n",
      "GHCND:USW00024233,SEATTLE TACOMA INTERNATIONAL AIRPORT WA US,20140328,221,0,0,117,72,39,240,210,89,107,1,-9999,-9999,-9999\n",
      "GHCND:USW00024233,SEATTLE TACOMA INTERNATIONAL AIRPORT WA US,20140329,140,0,0,117,72,51,190,190,94,139,1,-9999,-9999,-9999\n",
      "GHCND:USW00024233,SEATTLE TACOMA INTERNATIONAL AIRPORT WA US,20140330,0,0,0,111,50,51,190,180,103,125,-9999,-9999,-9999,-9999\n",
      "GHCND:USW00024233,SEATTLE TACOMA INTERNATIONAL AIRPORT WA US,20140331,0,0,0,156,22,38,360,220,72,94,-9999,-9999,-9999,-9999\n",
      "GHCND:USW00024233,SEATTLE TACOMA INTERNATIONAL AIRPORT WA US,20140401,0,0,0,144,67,28,20,10,58,67,-9999,-9999,-9999,-9999\n",
      "GHCND:USW00024233,SEATTLE TACOMA INTERNATIONAL AIRPORT WA US,20140402,0,0,0,144,56,42,210,200,72,103,-9999,-9999,-9999,-9999\n",
      "GHCND:USW00024233,SEATTLE TACOMA INTERNATIONAL AIRPORT WA US,20140403,25,0,0,133,61,39,220,220,89,116,-9999,-9999,-9999,-9999\n",
      "GHCND:USW00024233,SEATTLE TACOMA INTERNATIONAL AIRPORT WA US,20140404,0,0,0,128,61,47,210,220,89,107,-9999,-9999,-9999,-9999\n",
      "GHCND:USW00024233,SEATTLE TACOMA INTERNATIONAL AIRPORT WA US,20140405,46,0,0,117,78,43,210,230,98,130,1,-9999,-9999,-9999\n",
      "GHCND:USW00024233,SEATTLE TACOMA INTERNATIONAL AIRPORT WA US,20140406,0,0,0,139,83,26,220,220,72,107,-9999,-9999,-9999,-9999\n",
      "GHCND:USW00024233,SEATTLE TACOMA INTERNATIONAL AIRPORT WA US,20140407,0,0,0,211,94,25,200,320,63,98,-9999,-9999,-9999,-9999\n",
      "GHCND:USW00024233,SEATTLE TACOMA INTERNATIONAL AIRPORT WA US,20140408,46,0,0,156,83,42,40,40,81,98,1,-9999,-9999,-9999\n",
      "GHCND:USW00024233,SEATTLE TACOMA INTERNATIONAL AIRPORT WA US,20140409,0,0,0,144,67,29,30,30,67,81,-9999,-9999,-9999,-9999\n",
      "GHCND:USW00024233,SEATTLE TACOMA INTERNATIONAL AIRPORT WA US,20140410,0,0,0,150,67,36,30,30,63,72,-9999,-9999,-9999,-9999\n",
      "GHCND:USW00024233,SEATTLE TACOMA INTERNATIONAL AIRPORT WA US,20140411,0,0,0,172,50,28,30,-9999,72,-9999,-9999,-9999,-9999,-9999\n",
      "GHCND:USW00024233,SEATTLE TACOMA INTERNATIONAL AIRPORT WA US,20140412,0,0,0,161,78,44,360,360,67,89,-9999,-9999,-9999,-9999\n",
      "GHCND:USW00024233,SEATTLE TACOMA INTERNATIONAL AIRPORT WA US,20140413,0,0,0,206,56,31,300,290,67,81,-9999,-9999,-9999,-9999\n",
      "GHCND:USW00024233,SEATTLE TACOMA INTERNATIONAL AIRPORT WA US,20140414,0,0,0,200,56,26,220,280,76,116,-9999,-9999,-9999,-9999\n",
      "GHCND:USW00024233,SEATTLE TACOMA INTERNATIONAL AIRPORT WA US,20140415,5,0,0,144,78,40,210,220,76,98,-9999,-9999,-9999,-9999\n",
      "GHCND:USW00024233,SEATTLE TACOMA INTERNATIONAL AIRPORT WA US,20140416,109,0,0,111,89,46,190,210,72,94,1,-9999,-9999,-9999\n",
      "GHCND:USW00024233,SEATTLE TACOMA INTERNATIONAL AIRPORT WA US,20140417,185,0,0,117,72,47,220,230,103,130,1,-9999,-9999,-9999\n",
      "GHCND:USW00024233,SEATTLE TACOMA INTERNATIONAL AIRPORT WA US,20140418,0,0,0,144,56,38,210,310,76,170,-9999,-9999,-9999,-9999\n",
      "GHCND:USW00024233,SEATTLE TACOMA INTERNATIONAL AIRPORT WA US,20140419,137,0,0,117,56,47,210,230,103,139,1,-9999,-9999,-9999\n",
      "GHCND:USW00024233,SEATTLE TACOMA INTERNATIONAL AIRPORT WA US,20140420,0,0,0,156,56,27,200,210,94,112,-9999,-9999,-9999,-9999\n",
      "GHCND:USW00024233,SEATTLE TACOMA INTERNATIONAL AIRPORT WA US,20140421,51,0,0,172,78,25,340,-9999,63,-9999,1,-9999,-9999,-9999\n",
      "GHCND:USW00024233,SEATTLE TACOMA INTERNATIONAL AIRPORT WA US,20140422,142,0,0,122,50,42,260,250,98,130,1,-9999,-9999,-9999\n",
      "GHCND:USW00024233,SEATTLE TACOMA INTERNATIONAL AIRPORT WA US,20140423,89,0,0,117,61,50,280,320,81,143,1,-9999,-9999,-9999\n",
      "GHCND:USW00024233,SEATTLE TACOMA INTERNATIONAL AIRPORT WA US,20140424,124,0,0,139,61,53,200,210,116,161,1,-9999,-9999,-9999\n",
      "GHCND:USW00024233,SEATTLE TACOMA INTERNATIONAL AIRPORT WA US,20140425,0,0,0,144,56,23,320,290,63,76,-9999,-9999,-9999,-9999\n",
      "GHCND:USW00024233,SEATTLE TACOMA INTERNATIONAL AIRPORT WA US,20140426,33,0,0,150,56,39,190,210,63,89,-9999,-9999,-9999,-9999\n",
      "GHCND:USW00024233,SEATTLE TACOMA INTERNATIONAL AIRPORT WA US,20140427,69,0,0,111,61,58,200,200,98,112,1,-9999,-9999,-9999\n",
      "GHCND:USW00024233,SEATTLE TACOMA INTERNATIONAL AIRPORT WA US,20140428,0,0,0,161,44,26,280,280,58,72,-9999,-9999,-9999,-9999\n",
      "GHCND:USW00024233,SEATTLE TACOMA INTERNATIONAL AIRPORT WA US,20140429,0,0,0,250,94,23,100,90,67,89,-9999,-9999,-9999,-9999\n",
      "GHCND:USW00024233,SEATTLE TACOMA INTERNATIONAL AIRPORT WA US,20140430,0,0,0,278,94,39,350,10,76,89,-9999,-9999,-9999,-9999\n",
      "GHCND:USW00024233,SEATTLE TACOMA INTERNATIONAL AIRPORT WA US,20140501,0,0,0,294,111,30,240,240,58,81,-9999,-9999,-9999,-9999\n",
      "GHCND:USW00024233,SEATTLE TACOMA INTERNATIONAL AIRPORT WA US,20140502,0,0,0,183,106,47,220,230,81,103,-9999,-9999,-9999,-9999\n",
      "GHCND:USW00024233,SEATTLE TACOMA INTERNATIONAL AIRPORT WA US,20140503,333,0,0,150,89,34,210,200,98,130,1,-9999,-9999,-9999\n",
      "GHCND:USW00024233,SEATTLE TACOMA INTERNATIONAL AIRPORT WA US,20140504,160,0,0,144,89,42,190,200,89,112,1,-9999,-9999,-9999\n",
      "GHCND:USW00024233,SEATTLE TACOMA INTERNATIONAL AIRPORT WA US,20140505,51,0,0,156,94,38,220,230,72,98,1,-9999,-9999,-9999\n",
      "GHCND:USW00024233,SEATTLE TACOMA INTERNATIONAL AIRPORT WA US,20140506,0,0,0,167,83,26,220,250,58,72,-9999,-9999,-9999,-9999\n",
      "GHCND:USW00024233,SEATTLE TACOMA INTERNATIONAL AIRPORT WA US,20140507,0,0,0,183,72,17,240,250,58,72,-9999,-9999,-9999,-9999\n",
      "GHCND:USW00024233,SEATTLE TACOMA INTERNATIONAL AIRPORT WA US,20140508,137,0,0,139,94,34,200,200,89,116,1,-9999,-9999,-9999\n",
      "GHCND:USW00024233,SEATTLE TACOMA INTERNATIONAL AIRPORT WA US,20140509,20,0,0,133,72,56,210,220,98,130,-9999,-9999,-9999,-9999\n",
      "GHCND:USW00024233,SEATTLE TACOMA INTERNATIONAL AIRPORT WA US,20140510,5,0,0,156,72,21,270,240,40,81,1,-9999,-9999,-9999\n",
      "GHCND:USW00024233,SEATTLE TACOMA INTERNATIONAL AIRPORT WA US,20140511,0,0,0,189,83,17,200,200,116,116,-9999,-9999,-9999,-9999\n",
      "GHCND:USW00024233,SEATTLE TACOMA INTERNATIONAL AIRPORT WA US,20140512,0,0,0,244,94,27,320,310,54,67,-9999,-9999,-9999,-9999\n",
      "GHCND:USW00024233,SEATTLE TACOMA INTERNATIONAL AIRPORT WA US,20140513,0,0,0,267,128,38,350,350,67,81,-9999,-9999,-9999,-9999\n",
      "GHCND:USW00024233,SEATTLE TACOMA INTERNATIONAL AIRPORT WA US,20140514,0,0,0,278,133,33,350,30,67,116,-9999,-9999,-9999,-9999\n",
      "GHCND:USW00024233,SEATTLE TACOMA INTERNATIONAL AIRPORT WA US,20140515,0,0,0,267,128,30,240,240,89,107,-9999,-9999,-9999,-9999\n",
      "GHCND:USW00024233,SEATTLE TACOMA INTERNATIONAL AIRPORT WA US,20140516,0,0,0,200,117,41,220,200,72,98,-9999,-9999,-9999,-9999\n",
      "GHCND:USW00024233,SEATTLE TACOMA INTERNATIONAL AIRPORT WA US,20140517,0,0,0,200,117,32,190,260,63,89,-9999,-9999,-9999,-9999\n",
      "GHCND:USW00024233,SEATTLE TACOMA INTERNATIONAL AIRPORT WA US,20140518,0,0,0,200,106,32,210,210,112,148,-9999,-9999,-9999,-9999\n",
      "GHCND:USW00024233,SEATTLE TACOMA INTERNATIONAL AIRPORT WA US,20140519,0,0,0,211,100,22,340,350,63,72,-9999,-9999,-9999,-9999\n",
      "GHCND:USW00024233,SEATTLE TACOMA INTERNATIONAL AIRPORT WA US,20140520,0,0,0,222,100,27,300,280,58,67,-9999,-9999,-9999,-9999\n",
      "GHCND:USW00024233,SEATTLE TACOMA INTERNATIONAL AIRPORT WA US,20140521,0,0,0,200,106,17,250,250,40,54,-9999,-9999,-9999,-9999\n",
      "GHCND:USW00024233,SEATTLE TACOMA INTERNATIONAL AIRPORT WA US,20140522,0,0,0,244,117,25,300,300,67,81,-9999,-9999,-9999,-9999\n",
      "GHCND:USW00024233,SEATTLE TACOMA INTERNATIONAL AIRPORT WA US,20140523,38,0,0,200,128,40,220,110,81,130,1,-9999,-9999,-9999\n",
      "GHCND:USW00024233,SEATTLE TACOMA INTERNATIONAL AIRPORT WA US,20140524,0,0,0,183,111,24,230,220,54,67,-9999,-9999,-9999,-9999\n",
      "GHCND:USW00024233,SEATTLE TACOMA INTERNATIONAL AIRPORT WA US,20140525,56,0,0,150,106,14,230,320,45,107,1,-9999,-9999,-9999\n",
      "GHCND:USW00024233,SEATTLE TACOMA INTERNATIONAL AIRPORT WA US,20140526,0,0,0,183,111,45,210,210,94,112,-9999,-9999,-9999,-9999\n",
      "GHCND:USW00024233,SEATTLE TACOMA INTERNATIONAL AIRPORT WA US,20140527,0,0,0,200,100,25,280,280,58,81,-9999,-9999,-9999,-9999\n",
      "GHCND:USW00024233,SEATTLE TACOMA INTERNATIONAL AIRPORT WA US,20140528,0,0,0,189,100,34,210,200,76,98,-9999,-9999,-9999,-9999\n",
      "GHCND:USW00024233,SEATTLE TACOMA INTERNATIONAL AIRPORT WA US,20140529,0,0,0,189,111,43,180,170,81,107,-9999,-9999,-9999,-9999\n",
      "GHCND:USW00024233,SEATTLE TACOMA INTERNATIONAL AIRPORT WA US,20140530,0,0,0,206,89,45,340,350,89,103,-9999,-9999,-9999,-9999\n",
      "GHCND:USW00024233,SEATTLE TACOMA INTERNATIONAL AIRPORT WA US,20140531,0,0,0,233,100,22,200,210,54,72,-9999,-9999,-9999,-9999\n",
      "GHCND:USW00024233,SEATTLE TACOMA INTERNATIONAL AIRPORT WA US,20140601,0,0,0,222,106,23,250,220,45,67,-9999,-9999,-9999,-9999\n",
      "GHCND:USW00024233,SEATTLE TACOMA INTERNATIONAL AIRPORT WA US,20140602,0,0,0,233,111,24,210,200,58,72,-9999,-9999,-9999,-9999\n",
      "GHCND:USW00024233,SEATTLE TACOMA INTERNATIONAL AIRPORT WA US,20140603,0,0,0,183,111,32,220,250,63,72,-9999,-9999,-9999,-9999\n",
      "GHCND:USW00024233,SEATTLE TACOMA INTERNATIONAL AIRPORT WA US,20140604,0,0,0,194,100,26,260,260,54,72,-9999,-9999,-9999,-9999\n",
      "GHCND:USW00024233,SEATTLE TACOMA INTERNATIONAL AIRPORT WA US,20140605,0,0,0,222,100,24,350,250,45,89,-9999,-9999,-9999,-9999\n",
      "GHCND:USW00024233,SEATTLE TACOMA INTERNATIONAL AIRPORT WA US,20140606,0,0,0,250,106,32,40,40,94,107,-9999,-9999,-9999,-9999\n",
      "GHCND:USW00024233,SEATTLE TACOMA INTERNATIONAL AIRPORT WA US,20140607,0,0,0,244,133,31,300,290,67,89,-9999,-9999,-9999,-9999\n",
      "GHCND:USW00024233,SEATTLE TACOMA INTERNATIONAL AIRPORT WA US,20140608,0,0,0,233,122,21,50,40,58,67,-9999,-9999,-9999,-9999\n",
      "GHCND:USW00024233,SEATTLE TACOMA INTERNATIONAL AIRPORT WA US,20140609,0,0,0,211,133,36,30,30,72,89,-9999,-9999,-9999,-9999\n",
      "GHCND:USW00024233,SEATTLE TACOMA INTERNATIONAL AIRPORT WA US,20140610,0,0,0,200,122,29,40,40,67,81,-9999,-9999,-9999,-9999\n",
      "GHCND:USW00024233,SEATTLE TACOMA INTERNATIONAL AIRPORT WA US,20140611,0,0,0,239,111,27,290,300,63,72,-9999,-9999,-9999,-9999\n",
      "GHCND:USW00024233,SEATTLE TACOMA INTERNATIONAL AIRPORT WA US,20140612,18,0,0,217,122,40,240,230,103,139,-9999,-9999,-9999,-9999\n",
      "GHCND:USW00024233,SEATTLE TACOMA INTERNATIONAL AIRPORT WA US,20140613,64,0,0,156,111,50,220,220,98,139,1,-9999,-9999,-9999\n",
      "GHCND:USW00024233,SEATTLE TACOMA INTERNATIONAL AIRPORT WA US,20140614,0,0,0,178,117,32,190,190,76,98,-9999,-9999,-9999,-9999\n",
      "GHCND:USW00024233,SEATTLE TACOMA INTERNATIONAL AIRPORT WA US,20140615,5,0,0,183,100,36,50,50,98,112,1,-9999,-9999,-9999\n",
      "GHCND:USW00024233,SEATTLE TACOMA INTERNATIONAL AIRPORT WA US,20140616,36,0,-9999,178,89,24,210,210,58,72,1,-9999,-9999,-9999\n",
      "GHCND:USW00024233,SEATTLE TACOMA INTERNATIONAL AIRPORT WA US,20140617,13,0,0,178,100,30,230,210,54,72,1,-9999,-9999,-9999\n",
      "GHCND:USW00024233,SEATTLE TACOMA INTERNATIONAL AIRPORT WA US,20140618,0,0,0,189,111,27,210,180,54,81,-9999,-9999,-9999,-9999\n",
      "GHCND:USW00024233,SEATTLE TACOMA INTERNATIONAL AIRPORT WA US,20140619,8,0,0,256,117,37,240,230,81,112,-9999,-9999,-9999,-9999\n",
      "GHCND:USW00024233,SEATTLE TACOMA INTERNATIONAL AIRPORT WA US,20140620,3,0,0,200,100,34,30,230,76,103,-9999,-9999,-9999,-9999\n",
      "GHCND:USW00024233,SEATTLE TACOMA INTERNATIONAL AIRPORT WA US,20140621,0,0,0,222,106,36,20,300,67,89,-9999,-9999,-9999,-9999\n",
      "GHCND:USW00024233,SEATTLE TACOMA INTERNATIONAL AIRPORT WA US,20140622,0,0,0,250,111,27,20,360,58,72,-9999,-9999,-9999,-9999\n",
      "GHCND:USW00024233,SEATTLE TACOMA INTERNATIONAL AIRPORT WA US,20140623,0,0,0,250,133,25,250,230,63,81,-9999,-9999,-9999,-9999\n",
      "GHCND:USW00024233,SEATTLE TACOMA INTERNATIONAL AIRPORT WA US,20140624,0,0,0,244,144,25,190,260,58,94,-9999,-9999,-9999,-9999\n",
      "GHCND:USW00024233,SEATTLE TACOMA INTERNATIONAL AIRPORT WA US,20140625,0,0,0,261,139,24,360,280,63,76,-9999,-9999,-9999,-9999\n",
      "GHCND:USW00024233,SEATTLE TACOMA INTERNATIONAL AIRPORT WA US,20140626,0,0,0,211,144,41,230,240,76,98,-9999,-9999,-9999,-9999\n",
      "GHCND:USW00024233,SEATTLE TACOMA INTERNATIONAL AIRPORT WA US,20140627,18,0,0,211,139,45,240,230,98,134,1,-9999,-9999,-9999\n",
      "GHCND:USW00024233,SEATTLE TACOMA INTERNATIONAL AIRPORT WA US,20140628,23,0,0,200,133,43,220,230,76,98,1,-9999,-9999,-9999\n",
      "GHCND:USW00024233,SEATTLE TACOMA INTERNATIONAL AIRPORT WA US,20140629,0,0,0,206,128,32,210,200,72,94,-9999,-9999,-9999,-9999\n",
      "GHCND:USW00024233,SEATTLE TACOMA INTERNATIONAL AIRPORT WA US,20140630,0,0,0,256,128,44,330,340,67,98,-9999,-9999,-9999,-9999\n",
      "GHCND:USW00024233,SEATTLE TACOMA INTERNATIONAL AIRPORT WA US,20140701,0,0,0,344,156,35,350,10,67,81,-9999,-9999,-9999,-9999\n",
      "GHCND:USW00024233,SEATTLE TACOMA INTERNATIONAL AIRPORT WA US,20140702,0,0,0,272,144,36,210,230,72,94,-9999,-9999,-9999,-9999\n",
      "GHCND:USW00024233,SEATTLE TACOMA INTERNATIONAL AIRPORT WA US,20140703,0,0,0,217,139,31,230,330,54,72,-9999,-9999,-9999,-9999\n",
      "GHCND:USW00024233,SEATTLE TACOMA INTERNATIONAL AIRPORT WA US,20140704,0,0,0,239,139,36,340,-9999,63,-9999,-9999,-9999,-9999,-9999\n",
      "GHCND:USW00024233,SEATTLE TACOMA INTERNATIONAL AIRPORT WA US,20140705,0,0,0,244,133,22,200,230,63,81,1,-9999,-9999,-9999\n",
      "GHCND:USW00024233,SEATTLE TACOMA INTERNATIONAL AIRPORT WA US,20140706,0,0,0,289,150,30,340,330,76,94,-9999,-9999,-9999,-9999\n",
      "GHCND:USW00024233,SEATTLE TACOMA INTERNATIONAL AIRPORT WA US,20140707,0,0,0,272,178,41,340,340,67,148,1,-9999,-9999,-9999\n",
      "GHCND:USW00024233,SEATTLE TACOMA INTERNATIONAL AIRPORT WA US,20140708,0,0,0,300,156,35,350,350,72,94,-9999,-9999,-9999,-9999\n",
      "GHCND:USW00024233,SEATTLE TACOMA INTERNATIONAL AIRPORT WA US,20140709,0,0,0,267,139,23,250,320,67,112,-9999,-9999,-9999,-9999\n",
      "GHCND:USW00024233,SEATTLE TACOMA INTERNATIONAL AIRPORT WA US,20140710,0,0,0,289,128,22,10,270,40,72,1,-9999,-9999,-9999\n",
      "GHCND:USW00024233,SEATTLE TACOMA INTERNATIONAL AIRPORT WA US,20140711,0,0,0,311,150,22,35,35,49,67,-9999,-9999,-9999,-9999\n",
      "GHCND:USW00024233,SEATTLE TACOMA INTERNATIONAL AIRPORT WA US,20140712,0,0,0,322,167,22,20,20,54,63,-9999,-9999,-9999,-9999\n",
      "GHCND:USW00024233,SEATTLE TACOMA INTERNATIONAL AIRPORT WA US,20140713,0,0,0,294,150,26,360,350,76,94,-9999,-9999,-9999,1\n",
      "GHCND:USW00024233,SEATTLE TACOMA INTERNATIONAL AIRPORT WA US,20140714,0,0,0,278,150,28,250,250,45,49,-9999,-9999,-9999,-9999\n",
      "GHCND:USW00024233,SEATTLE TACOMA INTERNATIONAL AIRPORT WA US,20140715,0,0,0,311,139,23,360,210,67,107,-9999,-9999,-9999,-9999\n",
      "GHCND:USW00024233,SEATTLE TACOMA INTERNATIONAL AIRPORT WA US,20140716,0,0,0,311,144,24,200,100,58,94,-9999,-9999,-9999,-9999\n",
      "GHCND:USW00024233,SEATTLE TACOMA INTERNATIONAL AIRPORT WA US,20140717,0,0,0,267,139,37,280,170,81,116,-9999,-9999,-9999,-9999\n",
      "GHCND:USW00024233,SEATTLE TACOMA INTERNATIONAL AIRPORT WA US,20140718,0,0,0,239,117,28,260,240,63,81,-9999,-9999,-9999,-9999\n",
      "GHCND:USW00024233,SEATTLE TACOMA INTERNATIONAL AIRPORT WA US,20140719,0,0,0,256,150,54,220,220,125,161,1,-9999,-9999,-9999\n",
      "GHCND:USW00024233,SEATTLE TACOMA INTERNATIONAL AIRPORT WA US,20140720,0,0,0,194,144,28,320,300,89,116,-9999,-9999,-9999,-9999\n",
      "GHCND:USW00024233,SEATTLE TACOMA INTERNATIONAL AIRPORT WA US,20140721,0,0,0,239,133,22,260,220,54,67,-9999,-9999,-9999,-9999\n",
      "GHCND:USW00024233,SEATTLE TACOMA INTERNATIONAL AIRPORT WA US,20140722,3,0,0,211,133,11,200,220,40,72,1,-9999,-9999,-9999\n",
      "GHCND:USW00024233,SEATTLE TACOMA INTERNATIONAL AIRPORT WA US,20140723,193,0,0,189,133,33,150,210,63,112,-9999,-9999,-9999,-9999\n",
      "GHCND:USW00024233,SEATTLE TACOMA INTERNATIONAL AIRPORT WA US,20140724,0,0,0,206,128,47,210,210,89,112,-9999,-9999,-9999,-9999\n",
      "GHCND:USW00024233,SEATTLE TACOMA INTERNATIONAL AIRPORT WA US,20140725,0,0,0,228,122,27,20,250,58,76,-9999,-9999,-9999,-9999\n",
      "GHCND:USW00024233,SEATTLE TACOMA INTERNATIONAL AIRPORT WA US,20140726,0,0,0,261,133,36,20,20,72,76,-9999,-9999,-9999,-9999\n",
      "GHCND:USW00024233,SEATTLE TACOMA INTERNATIONAL AIRPORT WA US,20140727,0,0,0,283,150,41,350,360,67,81,-9999,-9999,-9999,-9999\n",
      "GHCND:USW00024233,SEATTLE TACOMA INTERNATIONAL AIRPORT WA US,20140728,0,0,0,306,150,37,40,360,67,98,-9999,-9999,-9999,-9999\n",
      "GHCND:USW00024233,SEATTLE TACOMA INTERNATIONAL AIRPORT WA US,20140729,0,0,0,300,156,28,10,350,76,94,-9999,-9999,-9999,-9999\n",
      "GHCND:USW00024233,SEATTLE TACOMA INTERNATIONAL AIRPORT WA US,20140730,0,0,0,294,144,34,40,350,76,103,-9999,-9999,-9999,-9999\n",
      "GHCND:USW00024233,SEATTLE TACOMA INTERNATIONAL AIRPORT WA US,20140731,0,0,0,306,178,41,40,350,67,125,-9999,-9999,-9999,-9999\n",
      "GHCND:USW00024233,SEATTLE TACOMA INTERNATIONAL AIRPORT WA US,20140801,0,0,0,289,150,33,30,360,98,143,-9999,-9999,-9999,-9999\n",
      "GHCND:USW00024233,SEATTLE TACOMA INTERNATIONAL AIRPORT WA US,20140802,5,0,0,294,156,17,20,-9999,45,-9999,-9999,-9999,-9999,-9999\n",
      "GHCND:USW00024233,SEATTLE TACOMA INTERNATIONAL AIRPORT WA US,20140803,0,0,0,317,144,26,360,330,54,72,-9999,-9999,-9999,-9999\n",
      "GHCND:USW00024233,SEATTLE TACOMA INTERNATIONAL AIRPORT WA US,20140804,0,0,0,328,161,26,350,10,58,67,-9999,-9999,-9999,-9999\n",
      "GHCND:USW00024233,SEATTLE TACOMA INTERNATIONAL AIRPORT WA US,20140805,0,0,0,250,139,27,240,210,58,72,-9999,-9999,-9999,-9999\n",
      "GHCND:USW00024233,SEATTLE TACOMA INTERNATIONAL AIRPORT WA US,20140806,0,0,0,261,150,22,250,320,45,54,1,-9999,-9999,-9999\n",
      "GHCND:USW00024233,SEATTLE TACOMA INTERNATIONAL AIRPORT WA US,20140807,0,0,0,256,133,24,190,210,40,63,1,-9999,-9999,-9999\n",
      "GHCND:USW00024233,SEATTLE TACOMA INTERNATIONAL AIRPORT WA US,20140808,0,0,0,256,133,29,40,230,76,98,-9999,-9999,-9999,-9999\n",
      "GHCND:USW00024233,SEATTLE TACOMA INTERNATIONAL AIRPORT WA US,20140809,0,0,0,272,156,41,40,340,72,94,-9999,-9999,-9999,-9999\n",
      "GHCND:USW00024233,SEATTLE TACOMA INTERNATIONAL AIRPORT WA US,20140810,0,0,0,306,139,34,360,350,63,94,-9999,-9999,-9999,-9999\n",
      "GHCND:USW00024233,SEATTLE TACOMA INTERNATIONAL AIRPORT WA US,20140811,5,0,0,356,178,26,70,70,81,98,-9999,-9999,-9999,1\n",
      "GHCND:USW00024233,SEATTLE TACOMA INTERNATIONAL AIRPORT WA US,20140812,127,0,0,272,172,31,60,350,81,148,1,-9999,-9999,-9999\n",
      "GHCND:USW00024233,SEATTLE TACOMA INTERNATIONAL AIRPORT WA US,20140813,216,0,0,233,150,27,200,200,63,63,1,-9999,-9999,-9999\n",
      "GHCND:USW00024233,SEATTLE TACOMA INTERNATIONAL AIRPORT WA US,20140814,0,0,0,211,172,6,330,-9999,31,-9999,-9999,-9999,-9999,-9999\n",
      "GHCND:USW00024233,SEATTLE TACOMA INTERNATIONAL AIRPORT WA US,20140815,10,0,0,244,167,15,280,180,40,72,1,-9999,-9999,-9999\n",
      "GHCND:USW00024233,SEATTLE TACOMA INTERNATIONAL AIRPORT WA US,20140816,0,0,0,256,156,22,290,320,67,76,-9999,-9999,-9999,-9999\n",
      "GHCND:USW00024233,SEATTLE TACOMA INTERNATIONAL AIRPORT WA US,20140817,0,0,0,278,150,28,360,-9999,58,-9999,-9999,-9999,-9999,-9999\n",
      "GHCND:USW00024233,SEATTLE TACOMA INTERNATIONAL AIRPORT WA US,20140818,0,0,0,294,156,33,340,-9999,67,-9999,-9999,-9999,-9999,-9999\n",
      "GHCND:USW00024233,SEATTLE TACOMA INTERNATIONAL AIRPORT WA US,20140819,0,0,0,272,156,24,210,210,72,89,-9999,-9999,-9999,-9999\n",
      "GHCND:USW00024233,SEATTLE TACOMA INTERNATIONAL AIRPORT WA US,20140820,0,0,0,217,139,36,230,220,58,76,-9999,-9999,-9999,-9999\n",
      "GHCND:USW00024233,SEATTLE TACOMA INTERNATIONAL AIRPORT WA US,20140821,0,0,0,211,111,17,220,220,45,67,-9999,-9999,-9999,-9999\n",
      "GHCND:USW00024233,SEATTLE TACOMA INTERNATIONAL AIRPORT WA US,20140822,0,0,0,239,133,29,330,20,72,94,-9999,-9999,-9999,-9999\n",
      "GHCND:USW00024233,SEATTLE TACOMA INTERNATIONAL AIRPORT WA US,20140823,0,0,0,278,139,20,280,280,54,72,-9999,-9999,-9999,-9999\n",
      "GHCND:USW00024233,SEATTLE TACOMA INTERNATIONAL AIRPORT WA US,20140824,0,0,0,250,133,23,10,270,45,67,-9999,-9999,-9999,-9999\n",
      "GHCND:USW00024233,SEATTLE TACOMA INTERNATIONAL AIRPORT WA US,20140825,0,0,0,289,144,20,360,10,67,94,-9999,-9999,-9999,-9999\n",
      "GHCND:USW00024233,SEATTLE TACOMA INTERNATIONAL AIRPORT WA US,20140826,0,0,0,311,156,18,20,-9999,45,-9999,-9999,-9999,-9999,-9999\n",
      "GHCND:USW00024233,SEATTLE TACOMA INTERNATIONAL AIRPORT WA US,20140827,0,0,0,289,161,16,30,100,54,98,-9999,-9999,-9999,-9999\n",
      "GHCND:USW00024233,SEATTLE TACOMA INTERNATIONAL AIRPORT WA US,20140828,0,0,0,233,144,23,180,180,54,72,-9999,-9999,-9999,-9999\n",
      "GHCND:USW00024233,SEATTLE TACOMA INTERNATIONAL AIRPORT WA US,20140829,0,0,0,228,150,34,210,200,72,89,-9999,-9999,-9999,-9999\n",
      "GHCND:USW00024233,SEATTLE TACOMA INTERNATIONAL AIRPORT WA US,20140830,84,0,0,178,150,22,120,130,58,67,1,-9999,-9999,-9999\n",
      "GHCND:USW00024233,SEATTLE TACOMA INTERNATIONAL AIRPORT WA US,20140831,13,0,0,211,139,19,210,190,45,63,1,-9999,-9999,-9999\n",
      "GHCND:USW00024233,SEATTLE TACOMA INTERNATIONAL AIRPORT WA US,20140901,0,0,0,233,128,25,260,240,54,67,-9999,-9999,-9999,-9999\n",
      "GHCND:USW00024233,SEATTLE TACOMA INTERNATIONAL AIRPORT WA US,20140902,30,0,0,200,139,43,210,210,103,130,1,-9999,-9999,-9999\n",
      "GHCND:USW00024233,SEATTLE TACOMA INTERNATIONAL AIRPORT WA US,20140903,0,0,0,206,128,27,230,220,67,94,-9999,-9999,-9999,-9999\n",
      "GHCND:USW00024233,SEATTLE TACOMA INTERNATIONAL AIRPORT WA US,20140904,0,0,0,239,111,31,350,350,63,81,1,-9999,-9999,-9999\n",
      "GHCND:USW00024233,SEATTLE TACOMA INTERNATIONAL AIRPORT WA US,20140905,0,0,0,278,139,65,20,10,98,116,1,-9999,-9999,-9999\n",
      "GHCND:USW00024233,SEATTLE TACOMA INTERNATIONAL AIRPORT WA US,20140906,0,0,0,322,150,29,10,20,54,63,-9999,-9999,-9999,-9999\n",
      "GHCND:USW00024233,SEATTLE TACOMA INTERNATIONAL AIRPORT WA US,20140907,0,0,0,283,133,21,210,210,54,63,-9999,-9999,-9999,-9999\n",
      "GHCND:USW00024233,SEATTLE TACOMA INTERNATIONAL AIRPORT WA US,20140908,0,0,0,211,133,28,230,220,58,76,-9999,-9999,-9999,-9999\n",
      "GHCND:USW00024233,SEATTLE TACOMA INTERNATIONAL AIRPORT WA US,20140909,0,0,0,217,133,23,240,230,45,67,-9999,-9999,-9999,-9999\n",
      "GHCND:USW00024233,SEATTLE TACOMA INTERNATIONAL AIRPORT WA US,20140910,0,0,0,222,122,39,350,350,89,107,-9999,-9999,-9999,-9999\n",
      "GHCND:USW00024233,SEATTLE TACOMA INTERNATIONAL AIRPORT WA US,20140911,0,0,0,244,128,53,70,80,94,112,-9999,-9999,-9999,-9999\n",
      "GHCND:USW00024233,SEATTLE TACOMA INTERNATIONAL AIRPORT WA US,20140912,0,0,0,244,128,59,340,340,89,107,-9999,-9999,-9999,-9999\n",
      "GHCND:USW00024233,SEATTLE TACOMA INTERNATIONAL AIRPORT WA US,20140913,0,0,0,283,100,42,20,20,81,94,-9999,-9999,-9999,-9999\n",
      "GHCND:USW00024233,SEATTLE TACOMA INTERNATIONAL AIRPORT WA US,20140914,0,0,0,300,117,18,20,30,58,63,-9999,-9999,-9999,-9999\n",
      "GHCND:USW00024233,SEATTLE TACOMA INTERNATIONAL AIRPORT WA US,20140915,0,0,0,306,122,12,290,280,40,54,-9999,-9999,-9999,-9999\n",
      "GHCND:USW00024233,SEATTLE TACOMA INTERNATIONAL AIRPORT WA US,20140916,0,0,0,222,139,28,210,190,67,81,-9999,-9999,-9999,-9999\n",
      "GHCND:USW00024233,SEATTLE TACOMA INTERNATIONAL AIRPORT WA US,20140917,5,0,0,228,144,23,350,350,76,94,-9999,-9999,-9999,-9999\n",
      "GHCND:USW00024233,SEATTLE TACOMA INTERNATIONAL AIRPORT WA US,20140918,3,0,0,194,150,31,210,210,67,130,1,-9999,-9999,-9999\n",
      "GHCND:USW00024233,SEATTLE TACOMA INTERNATIONAL AIRPORT WA US,20140919,0,0,0,239,161,28,220,200,58,72,-9999,-9999,-9999,-9999\n",
      "GHCND:USW00024233,SEATTLE TACOMA INTERNATIONAL AIRPORT WA US,20140920,0,0,0,244,144,44,10,360,81,98,1,-9999,-9999,-9999\n",
      "GHCND:USW00024233,SEATTLE TACOMA INTERNATIONAL AIRPORT WA US,20140921,0,0,0,261,128,30,220,220,72,89,-9999,-9999,-9999,-9999\n",
      "GHCND:USW00024233,SEATTLE TACOMA INTERNATIONAL AIRPORT WA US,20140922,3,0,0,222,150,21,230,230,54,72,1,-9999,-9999,-9999\n",
      "GHCND:USW00024233,SEATTLE TACOMA INTERNATIONAL AIRPORT WA US,20140923,183,0,0,189,144,25,70,150,58,72,1,-9999,-9999,-9999\n",
      "GHCND:USW00024233,SEATTLE TACOMA INTERNATIONAL AIRPORT WA US,20140924,203,0,0,189,144,27,140,150,72,81,1,-9999,-9999,-9999\n",
      "GHCND:USW00024233,SEATTLE TACOMA INTERNATIONAL AIRPORT WA US,20140925,43,0,0,217,144,25,240,250,89,116,1,-9999,-9999,-9999\n",
      "GHCND:USW00024233,SEATTLE TACOMA INTERNATIONAL AIRPORT WA US,20140926,89,0,0,200,139,33,140,130,72,107,1,-9999,-9999,-9999\n",
      "GHCND:USW00024233,SEATTLE TACOMA INTERNATIONAL AIRPORT WA US,20140927,0,0,0,206,117,32,340,10,63,76,1,-9999,-9999,-9999\n",
      "GHCND:USW00024233,SEATTLE TACOMA INTERNATIONAL AIRPORT WA US,20140928,0,0,0,189,122,20,280,280,40,54,1,-9999,-9999,-9999\n",
      "GHCND:USW00024233,SEATTLE TACOMA INTERNATIONAL AIRPORT WA US,20140929,8,0,0,167,111,35,170,220,63,76,1,-9999,1,-9999\n",
      "GHCND:USW00024233,SEATTLE TACOMA INTERNATIONAL AIRPORT WA US,20140930,0,0,0,194,122,26,30,80,54,81,-9999,-9999,-9999,-9999\n",
      "GHCND:USW00024233,SEATTLE TACOMA INTERNATIONAL AIRPORT WA US,20141001,0,0,0,183,111,21,50,230,54,67,-9999,-9999,-9999,-9999\n",
      "GHCND:USW00024233,SEATTLE TACOMA INTERNATIONAL AIRPORT WA US,20141002,0,0,0,194,100,20,300,10,54,72,-9999,-9999,-9999,-9999\n",
      "GHCND:USW00024233,SEATTLE TACOMA INTERNATIONAL AIRPORT WA US,20141003,0,0,0,222,89,10,290,290,36,40,-9999,-9999,-9999,-9999\n",
      "GHCND:USW00024233,SEATTLE TACOMA INTERNATIONAL AIRPORT WA US,20141004,0,0,0,217,122,12,310,310,36,40,-9999,-9999,-9999,-9999\n",
      "GHCND:USW00024233,SEATTLE TACOMA INTERNATIONAL AIRPORT WA US,20141005,0,0,0,239,117,14,20,340,40,54,1,-9999,1,-9999\n",
      "GHCND:USW00024233,SEATTLE TACOMA INTERNATIONAL AIRPORT WA US,20141006,0,0,0,256,133,25,10,360,63,76,1,-9999,1,-9999\n",
      "GHCND:USW00024233,SEATTLE TACOMA INTERNATIONAL AIRPORT WA US,20141007,0,0,0,189,139,10,20,20,40,54,1,-9999,1,-9999\n",
      "GHCND:USW00024233,SEATTLE TACOMA INTERNATIONAL AIRPORT WA US,20141008,0,0,0,206,128,18,310,310,40,63,1,-9999,1,-9999\n",
      "GHCND:USW00024233,SEATTLE TACOMA INTERNATIONAL AIRPORT WA US,20141009,0,0,0,172,111,10,290,290,40,45,1,-9999,1,-9999\n",
      "GHCND:USW00024233,SEATTLE TACOMA INTERNATIONAL AIRPORT WA US,20141010,3,0,0,183,100,38,200,190,72,94,1,-9999,1,-9999\n",
      "GHCND:USW00024233,SEATTLE TACOMA INTERNATIONAL AIRPORT WA US,20141011,74,0,0,183,117,35,210,200,112,130,1,-9999,-9999,1\n",
      "GHCND:USW00024233,SEATTLE TACOMA INTERNATIONAL AIRPORT WA US,20141012,0,0,0,178,117,21,250,220,45,63,-9999,-9999,-9999,-9999\n",
      "GHCND:USW00024233,SEATTLE TACOMA INTERNATIONAL AIRPORT WA US,20141013,76,0,0,211,100,31,210,200,81,116,1,-9999,-9999,-9999\n",
      "GHCND:USW00024233,SEATTLE TACOMA INTERNATIONAL AIRPORT WA US,20141014,71,0,0,167,117,22,140,140,58,72,1,-9999,-9999,-9999\n",
      "GHCND:USW00024233,SEATTLE TACOMA INTERNATIONAL AIRPORT WA US,20141015,86,0,0,161,117,47,200,200,103,125,1,-9999,-9999,-9999\n",
      "GHCND:USW00024233,SEATTLE TACOMA INTERNATIONAL AIRPORT WA US,20141016,0,0,0,206,111,33,120,120,76,103,-9999,-9999,-9999,-9999\n",
      "GHCND:USW00024233,SEATTLE TACOMA INTERNATIONAL AIRPORT WA US,20141017,33,0,0,167,117,30,120,120,76,94,1,-9999,-9999,-9999\n",
      "GHCND:USW00024233,SEATTLE TACOMA INTERNATIONAL AIRPORT WA US,20141018,150,0,0,194,139,19,140,320,54,103,1,-9999,-9999,-9999\n",
      "GHCND:USW00024233,SEATTLE TACOMA INTERNATIONAL AIRPORT WA US,20141019,0,0,0,222,128,32,210,220,89,107,-9999,-9999,-9999,-9999\n",
      "GHCND:USW00024233,SEATTLE TACOMA INTERNATIONAL AIRPORT WA US,20141020,117,0,0,161,122,31,190,-9999,49,-9999,1,-9999,-9999,-9999\n",
      "GHCND:USW00024233,SEATTLE TACOMA INTERNATIONAL AIRPORT WA US,20141021,10,0,0,161,117,47,180,180,81,103,-9999,-9999,-9999,-9999\n",
      "GHCND:USW00024233,SEATTLE TACOMA INTERNATIONAL AIRPORT WA US,20141022,320,0,0,156,117,50,200,130,81,125,1,-9999,-9999,-9999\n",
      "GHCND:USW00024233,SEATTLE TACOMA INTERNATIONAL AIRPORT WA US,20141023,94,0,0,144,83,46,270,270,103,143,-9999,-9999,-9999,-9999\n",
      "GHCND:USW00024233,SEATTLE TACOMA INTERNATIONAL AIRPORT WA US,20141024,41,0,0,144,89,32,360,30,63,134,-9999,-9999,-9999,-9999\n",
      "GHCND:USW00024233,SEATTLE TACOMA INTERNATIONAL AIRPORT WA US,20141025,61,0,0,167,83,54,200,210,165,219,1,-9999,-9999,-9999\n",
      "GHCND:USW00024233,SEATTLE TACOMA INTERNATIONAL AIRPORT WA US,20141026,15,0,0,128,78,50,210,210,98,125,1,-9999,-9999,-9999\n",
      "GHCND:USW00024233,SEATTLE TACOMA INTERNATIONAL AIRPORT WA US,20141027,8,0,0,156,67,24,190,200,76,130,-9999,-9999,-9999,-9999\n",
      "GHCND:USW00024233,SEATTLE TACOMA INTERNATIONAL AIRPORT WA US,20141028,127,0,0,150,94,39,190,170,76,103,1,-9999,-9999,-9999\n",
      "GHCND:USW00024233,SEATTLE TACOMA INTERNATIONAL AIRPORT WA US,20141029,5,0,0,167,117,31,180,180,76,98,1,-9999,-9999,-9999\n",
      "GHCND:USW00024233,SEATTLE TACOMA INTERNATIONAL AIRPORT WA US,20141030,254,0,0,156,111,32,100,110,72,94,1,-9999,-9999,-9999\n",
      "GHCND:USW00024233,SEATTLE TACOMA INTERNATIONAL AIRPORT WA US,20141031,170,0,0,128,83,20,230,-9999,45,-9999,1,-9999,-9999,-9999\n",
      "GHCND:USW00024233,SEATTLE TACOMA INTERNATIONAL AIRPORT WA US,20141101,0,0,0,111,72,12,120,-9999,31,-9999,1,-9999,1,-9999\n",
      "GHCND:USW00024233,SEATTLE TACOMA INTERNATIONAL AIRPORT WA US,20141102,18,0,0,133,72,29,180,150,58,72,1,-9999,-9999,-9999\n",
      "GHCND:USW00024233,SEATTLE TACOMA INTERNATIONAL AIRPORT WA US,20141103,109,0,0,139,111,48,170,170,89,112,1,-9999,-9999,-9999\n",
      "GHCND:USW00024233,SEATTLE TACOMA INTERNATIONAL AIRPORT WA US,20141104,41,0,0,144,106,33,200,210,94,130,1,-9999,-9999,-9999\n",
      "GHCND:USW00024233,SEATTLE TACOMA INTERNATIONAL AIRPORT WA US,20141105,48,0,0,150,106,21,100,100,45,58,1,-9999,-9999,-9999\n",
      "GHCND:USW00024233,SEATTLE TACOMA INTERNATIONAL AIRPORT WA US,20141106,41,0,0,167,106,67,210,200,148,192,1,-9999,-9999,-9999\n",
      "GHCND:USW00024233,SEATTLE TACOMA INTERNATIONAL AIRPORT WA US,20141107,0,0,0,144,72,23,350,240,45,76,-9999,-9999,-9999,-9999\n",
      "GHCND:USW00024233,SEATTLE TACOMA INTERNATIONAL AIRPORT WA US,20141108,0,0,0,128,39,8,150,280,31,40,1,-9999,1,-9999\n",
      "GHCND:USW00024233,SEATTLE TACOMA INTERNATIONAL AIRPORT WA US,20141109,51,0,0,133,78,30,30,190,81,103,1,-9999,-9999,-9999\n",
      "GHCND:USW00024233,SEATTLE TACOMA INTERNATIONAL AIRPORT WA US,20141110,0,0,0,111,56,39,20,30,67,81,-9999,-9999,-9999,-9999\n",
      "GHCND:USW00024233,SEATTLE TACOMA INTERNATIONAL AIRPORT WA US,20141111,0,0,0,78,11,77,100,100,139,192,-9999,-9999,-9999,-9999\n",
      "GHCND:USW00024233,SEATTLE TACOMA INTERNATIONAL AIRPORT WA US,20141112,0,0,0,67,0,76,80,80,130,174,-9999,-9999,-9999,-9999\n",
      "GHCND:USW00024233,SEATTLE TACOMA INTERNATIONAL AIRPORT WA US,20141113,0,0,0,72,6,47,110,110,94,139,-9999,-9999,-9999,-9999\n",
      "GHCND:USW00024233,SEATTLE TACOMA INTERNATIONAL AIRPORT WA US,20141114,0,0,0,72,-21,45,10,10,76,89,-9999,-9999,-9999,-9999\n",
      "GHCND:USW00024233,SEATTLE TACOMA INTERNATIONAL AIRPORT WA US,20141115,0,0,0,83,-16,42,90,90,134,148,-9999,-9999,-9999,-9999\n",
      "GHCND:USW00024233,SEATTLE TACOMA INTERNATIONAL AIRPORT WA US,20141116,0,0,0,94,-21,42,10,10,76,94,-9999,-9999,-9999,-9999\n",
      "GHCND:USW00024233,SEATTLE TACOMA INTERNATIONAL AIRPORT WA US,20141117,0,0,0,106,-21,19,230,-9999,81,-9999,-9999,-9999,-9999,-9999\n",
      "GHCND:USW00024233,SEATTLE TACOMA INTERNATIONAL AIRPORT WA US,20141118,0,0,0,72,-5,9,20,10,45,54,-9999,-9999,-9999,-9999\n",
      "GHCND:USW00024233,SEATTLE TACOMA INTERNATIONAL AIRPORT WA US,20141119,0,0,0,111,22,19,10,130,45,58,-9999,-9999,-9999,-9999\n",
      "GHCND:USW00024233,SEATTLE TACOMA INTERNATIONAL AIRPORT WA US,20141120,36,0,0,111,56,21,100,140,54,67,1,-9999,-9999,-9999\n",
      "GHCND:USW00024233,SEATTLE TACOMA INTERNATIONAL AIRPORT WA US,20141121,152,0,0,111,83,47,210,200,125,161,1,-9999,-9999,-9999\n",
      "GHCND:USW00024233,SEATTLE TACOMA INTERNATIONAL AIRPORT WA US,20141122,5,0,0,94,67,47,210,210,125,165,-9999,-9999,-9999,-9999\n",
      "GHCND:USW00024233,SEATTLE TACOMA INTERNATIONAL AIRPORT WA US,20141123,119,0,0,128,56,51,220,220,112,170,1,-9999,-9999,-9999\n",
      "GHCND:USW00024233,SEATTLE TACOMA INTERNATIONAL AIRPORT WA US,20141124,13,0,0,117,44,38,190,190,107,139,1,-9999,-9999,-9999\n",
      "GHCND:USW00024233,SEATTLE TACOMA INTERNATIONAL AIRPORT WA US,20141125,183,0,0,139,94,45,210,190,112,148,1,-9999,-9999,-9999\n",
      "GHCND:USW00024233,SEATTLE TACOMA INTERNATIONAL AIRPORT WA US,20141126,3,0,0,150,122,39,210,200,89,116,-9999,-9999,-9999,-9999\n",
      "GHCND:USW00024233,SEATTLE TACOMA INTERNATIONAL AIRPORT WA US,20141127,33,0,0,144,117,66,190,190,125,165,1,-9999,-9999,-9999\n",
      "GHCND:USW00024233,SEATTLE TACOMA INTERNATIONAL AIRPORT WA US,20141128,343,0,0,128,33,58,10,10,103,143,1,-9999,-9999,-9999\n",
      "GHCND:USW00024233,SEATTLE TACOMA INTERNATIONAL AIRPORT WA US,20141129,36,0,20,44,-43,53,360,350,139,174,1,-9999,-9999,-9999\n",
      "GHCND:USW00024233,SEATTLE TACOMA INTERNATIONAL AIRPORT WA US,20141130,0,0,0,28,-49,44,10,-9999,72,-9999,-9999,-9999,-9999,-9999\n",
      "GHCND:USW00024233,SEATTLE TACOMA INTERNATIONAL AIRPORT WA US,20141201,0,0,0,44,-32,22,30,100,45,58,-9999,-9999,-9999,-9999\n",
      "GHCND:USW00024233,SEATTLE TACOMA INTERNATIONAL AIRPORT WA US,20141202,0,0,0,56,-32,57,20,20,103,125,1,-9999,-9999,-9999\n",
      "GHCND:USW00024233,SEATTLE TACOMA INTERNATIONAL AIRPORT WA US,20141203,0,0,0,100,0,36,210,210,125,130,-9999,-9999,-9999,-9999\n",
      "GHCND:USW00024233,SEATTLE TACOMA INTERNATIONAL AIRPORT WA US,20141204,8,0,0,83,39,11,110,110,45,58,1,-9999,-9999,-9999\n",
      "GHCND:USW00024233,SEATTLE TACOMA INTERNATIONAL AIRPORT WA US,20141205,30,0,0,128,67,31,110,110,81,107,1,-9999,-9999,-9999\n",
      "GHCND:USW00024233,SEATTLE TACOMA INTERNATIONAL AIRPORT WA US,20141206,74,0,0,117,78,36,200,200,72,94,1,-9999,-9999,-9999\n",
      "GHCND:USW00024233,SEATTLE TACOMA INTERNATIONAL AIRPORT WA US,20141207,0,0,0,144,61,28,130,340,89,107,-9999,-9999,-9999,-9999\n",
      "GHCND:USW00024233,SEATTLE TACOMA INTERNATIONAL AIRPORT WA US,20141208,91,0,0,144,89,42,100,120,76,94,1,-9999,-9999,-9999\n",
      "GHCND:USW00024233,SEATTLE TACOMA INTERNATIONAL AIRPORT WA US,20141209,99,0,0,161,106,51,160,150,103,134,1,-9999,-9999,-9999\n",
      "GHCND:USW00024233,SEATTLE TACOMA INTERNATIONAL AIRPORT WA US,20141210,130,0,0,189,100,67,170,160,157,206,1,-9999,-9999,-9999\n",
      "GHCND:USW00024233,SEATTLE TACOMA INTERNATIONAL AIRPORT WA US,20141211,69,0,0,144,83,64,190,180,161,219,1,-9999,-9999,-9999\n",
      "GHCND:USW00024233,SEATTLE TACOMA INTERNATIONAL AIRPORT WA US,20141212,0,0,0,111,72,37,190,200,116,157,-9999,-9999,-9999,-9999\n",
      "GHCND:USW00024233,SEATTLE TACOMA INTERNATIONAL AIRPORT WA US,20141213,0,0,0,100,39,11,180,320,36,36,1,-9999,1,-9999\n",
      "GHCND:USW00024233,SEATTLE TACOMA INTERNATIONAL AIRPORT WA US,20141214,0,0,0,128,17,35,110,120,98,134,1,-9999,1,-9999\n",
      "GHCND:USW00024233,SEATTLE TACOMA INTERNATIONAL AIRPORT WA US,20141215,0,0,0,122,67,59,120,120,98,130,-9999,-9999,-9999,-9999\n",
      "GHCND:USW00024233,SEATTLE TACOMA INTERNATIONAL AIRPORT WA US,20141216,0,0,-9999,100,83,40,110,110,67,98,-9999,-9999,-9999,-9999\n",
      "GHCND:USW00024233,SEATTLE TACOMA INTERNATIONAL AIRPORT WA US,20141217,28,0,0,89,61,16,100,100,54,67,1,-9999,-9999,-9999\n",
      "GHCND:USW00024233,SEATTLE TACOMA INTERNATIONAL AIRPORT WA US,20141218,130,0,0,94,67,31,120,110,67,98,1,-9999,-9999,-9999\n",
      "GHCND:USW00024233,SEATTLE TACOMA INTERNATIONAL AIRPORT WA US,20141219,30,0,0,111,72,43,200,200,81,98,-9999,-9999,-9999,-9999\n",
      "GHCND:USW00024233,SEATTLE TACOMA INTERNATIONAL AIRPORT WA US,20141220,196,0,0,128,67,55,220,220,125,206,1,-9999,-9999,-9999\n",
      "GHCND:USW00024233,SEATTLE TACOMA INTERNATIONAL AIRPORT WA US,20141221,0,0,0,128,100,52,230,220,107,148,-9999,-9999,-9999,-9999\n",
      "GHCND:USW00024233,SEATTLE TACOMA INTERNATIONAL AIRPORT WA US,20141222,0,0,0,106,61,15,220,220,58,76,-9999,-9999,-9999,-9999\n",
      "GHCND:USW00024233,SEATTLE TACOMA INTERNATIONAL AIRPORT WA US,20141223,206,0,0,122,50,38,40,60,103,125,1,-9999,-9999,-9999\n",
      "GHCND:USW00024233,SEATTLE TACOMA INTERNATIONAL AIRPORT WA US,20141224,53,0,0,72,39,18,170,190,40,58,1,-9999,-9999,-9999\n",
      "GHCND:USW00024233,SEATTLE TACOMA INTERNATIONAL AIRPORT WA US,20141225,0,0,0,78,28,22,130,130,45,54,1,-9999,1,-9999\n",
      "GHCND:USW00024233,SEATTLE TACOMA INTERNATIONAL AIRPORT WA US,20141226,0,0,0,56,17,12,160,160,45,54,1,-9999,1,-9999\n",
      "GHCND:USW00024233,SEATTLE TACOMA INTERNATIONAL AIRPORT WA US,20141227,33,0,0,94,44,49,210,210,112,161,1,-9999,-9999,-9999\n",
      "GHCND:USW00024233,SEATTLE TACOMA INTERNATIONAL AIRPORT WA US,20141228,41,0,0,67,28,18,50,30,58,72,1,-9999,-9999,-9999\n",
      "GHCND:USW00024233,SEATTLE TACOMA INTERNATIONAL AIRPORT WA US,20141229,0,0,0,61,6,43,350,350,76,103,1,-9999,-9999,-9999\n",
      "GHCND:USW00024233,SEATTLE TACOMA INTERNATIONAL AIRPORT WA US,20141230,0,0,0,33,-21,36,90,70,63,76,-9999,-9999,-9999,-9999\n",
      "GHCND:USW00024233,SEATTLE TACOMA INTERNATIONAL AIRPORT WA US,20141231,0,0,0,33,-27,30,30,-9999,58,-9999,-9999,-9999,-9999,-9999\n"
     ]
    }
   ],
   "source": [
    "!type C:\\K_7\\k7_python\\ai_programming\\python-ds-handbook\\notebooks\\data\\Seattle2014.csv"
   ]
  },
  {
   "cell_type": "code",
   "execution_count": 172,
   "id": "a3dd58a2-7d8a-44d5-93e9-2dff6c59b3af",
   "metadata": {
    "scrolled": true
   },
   "outputs": [],
   "source": [
    "with open('C:/K_7/k7_python/ai_programming/python-ds-handbook/notebooks/data/Seattle2014.csv') as f:\n",
    "    f.readline()\n",
    "    rainfall=[]\n",
    "    for line in f.readlines():\n",
    "        # print(line.rstrip().split()[3])\n",
    "        rainfall.append(int(line.rstrip().split(',')[3]))"
   ]
  },
  {
   "cell_type": "code",
   "execution_count": 186,
   "id": "35a3d9f5-8955-41ef-8970-30ddf1fc44b1",
   "metadata": {},
   "outputs": [
    {
     "data": {
      "text/plain": [
       "(365,)"
      ]
     },
     "execution_count": 186,
     "metadata": {},
     "output_type": "execute_result"
    }
   ],
   "source": [
    "rainfall_np = np.asarray(rainfall)\n",
    "rainfall_np.shape"
   ]
  },
  {
   "cell_type": "code",
   "execution_count": 187,
   "id": "79e0862f-b995-438a-b043-ff5d6b0ffbdc",
   "metadata": {
    "scrolled": true
   },
   "outputs": [
    {
     "data": {
      "text/plain": [
       "array([False,  True,  True, False, False, False,  True,  True,  True,\n",
       "        True,  True,  True, False, False, False, False, False, False,\n",
       "       False, False, False,  True, False, False, False, False, False,\n",
       "        True,  True, False,  True,  True, False, False, False, False,\n",
       "       False, False,  True,  True,  True,  True,  True,  True,  True,\n",
       "        True,  True,  True,  True,  True,  True,  True,  True,  True,\n",
       "        True, False, False, False, False,  True,  True,  True,  True,\n",
       "        True,  True, False,  True,  True,  True, False, False,  True,\n",
       "        True,  True,  True, False, False,  True, False, False, False,\n",
       "       False, False,  True,  True, False,  True,  True, False, False,\n",
       "       False, False,  True, False,  True, False, False,  True, False,\n",
       "       False, False, False, False, False,  True,  True,  True, False,\n",
       "        True, False,  True,  True,  True,  True, False,  True,  True,\n",
       "       False, False, False, False, False,  True,  True,  True, False,\n",
       "       False,  True,  True,  True, False, False, False, False, False,\n",
       "       False, False, False, False, False, False, False,  True, False,\n",
       "        True, False, False, False, False, False, False, False, False,\n",
       "       False, False, False, False, False, False, False, False, False,\n",
       "        True,  True, False,  True,  True,  True, False,  True, False,\n",
       "       False, False, False, False, False, False,  True,  True, False,\n",
       "       False, False, False, False, False, False, False, False, False,\n",
       "       False, False, False, False, False, False, False, False, False,\n",
       "       False, False, False, False, False,  True, False, False, False,\n",
       "       False, False, False, False, False, False,  True, False, False,\n",
       "       False, False, False, False, False, False,  True,  True,  True,\n",
       "       False,  True, False, False, False, False, False, False, False,\n",
       "       False, False, False, False, False, False, False,  True,  True,\n",
       "       False,  True, False, False, False, False, False, False, False,\n",
       "       False, False, False, False, False, False, False,  True, False,\n",
       "       False, False, False, False,  True,  True,  True,  True, False,\n",
       "       False,  True, False, False, False, False, False, False, False,\n",
       "       False, False, False, False,  True, False,  True,  True,  True,\n",
       "       False,  True,  True, False,  True,  True,  True,  True,  True,\n",
       "        True,  True,  True,  True,  True,  True,  True, False,  True,\n",
       "        True,  True,  True,  True, False, False,  True, False, False,\n",
       "       False, False, False, False, False, False, False, False,  True,\n",
       "        True,  True,  True,  True,  True, False,  True,  True,  True,\n",
       "       False, False, False, False,  True,  True,  True, False,  True,\n",
       "        True,  True,  True, False, False, False, False, False,  True,\n",
       "        True,  True,  True, False, False,  True,  True, False, False,\n",
       "        True,  True, False, False, False])"
      ]
     },
     "execution_count": 187,
     "metadata": {},
     "output_type": "execute_result"
    }
   ],
   "source": [
    "rainfall_np > 3"
   ]
  },
  {
   "cell_type": "code",
   "execution_count": 139,
   "id": "720a8f75-f39e-43c3-af7f-6f95b6d15886",
   "metadata": {},
   "outputs": [],
   "source": [
    "%matplotlib inline\n",
    "import matplotlib.pyplot as plt"
   ]
  },
  {
   "cell_type": "code",
   "execution_count": 174,
   "id": "13504561-9cdf-4c58-a647-42ffcaa0faff",
   "metadata": {},
   "outputs": [
    {
     "data": {
      "text/plain": [
       "(array([289.,  25.,  20.,  13.,  10.,   3.,   2.,   2.,   0.,   1.]),\n",
       " array([  0. ,  46.7,  93.4, 140.1, 186.8, 233.5, 280.2, 326.9, 373.6,\n",
       "        420.3, 467. ]),\n",
       " <BarContainer object of 10 artists>)"
      ]
     },
     "execution_count": 174,
     "metadata": {},
     "output_type": "execute_result"
    },
    {
     "data": {
      "image/png": "[encoded data removed]",
      "text/plain": [
       "<Figure size 640x480 with 1 Axes>"
      ]
     },
     "metadata": {},
     "output_type": "display_data"
    }
   ],
   "source": [
    "plt.hist(rainfall)"
   ]
  },
  {
   "cell_type": "markdown",
   "id": "8c4c4031-348c-4087-b156-40c8b4c76c27",
   "metadata": {},
   "source": [
    "### 부울 배열로 작업하기\n"
   ]
  },
  {
   "cell_type": "code",
   "execution_count": 162,
   "id": "c2fba09c-b90a-4f46-96f9-a178f13d0837",
   "metadata": {},
   "outputs": [
    {
     "data": {
      "text/plain": [
       "array([ True,  True, False, False, False])"
      ]
     },
     "execution_count": 162,
     "metadata": {},
     "output_type": "execute_result"
    }
   ],
   "source": [
    "a = np.array([1,2,3,4,5])\n",
    "a < 3"
   ]
  },
  {
   "cell_type": "code",
   "execution_count": null,
   "id": "6fb6de62-63ef-4f4c-a785-64c49f7cb817",
   "metadata": {},
   "outputs": [],
   "source": [
    "A B AND(&) OR(|)\n",
    "0 0\n",
    "0 1\n",
    "1 0\n",
    "1 1"
   ]
  },
  {
   "cell_type": "code",
   "execution_count": 163,
   "id": "5375c942-0a94-45c2-aa28-45a86c47c433",
   "metadata": {},
   "outputs": [],
   "source": [
    "x = np.random.randint(1,7,(10,5))"
   ]
  },
  {
   "cell_type": "code",
   "execution_count": 164,
   "id": "4df25669-0a72-4800-9731-99710386aa5b",
   "metadata": {},
   "outputs": [
    {
     "data": {
      "text/plain": [
       "array([[ True, False, False,  True, False],\n",
       "       [False,  True, False, False, False],\n",
       "       [False,  True, False, False,  True],\n",
       "       [False, False, False, False,  True],\n",
       "       [False,  True, False, False, False],\n",
       "       [False, False,  True, False,  True],\n",
       "       [False,  True, False, False, False],\n",
       "       [False,  True,  True, False, False],\n",
       "       [False,  True,  True, False,  True],\n",
       "       [ True,  True,  True,  True,  True]])"
      ]
     },
     "execution_count": 164,
     "metadata": {},
     "output_type": "execute_result"
    }
   ],
   "source": [
    "x < 3"
   ]
  },
  {
   "cell_type": "code",
   "execution_count": 165,
   "id": "17ccf5a2-8c45-49e7-b268-286bbc024c16",
   "metadata": {},
   "outputs": [
    {
     "data": {
      "text/plain": [
       "20"
      ]
     },
     "execution_count": 165,
     "metadata": {},
     "output_type": "execute_result"
    }
   ],
   "source": [
    "np.sum(x<3)"
   ]
  },
  {
   "cell_type": "code",
   "execution_count": 166,
   "id": "3af901fc-9924-4d7f-a117-d3510eed709a",
   "metadata": {},
   "outputs": [
    {
     "data": {
      "text/plain": [
       "(20,)"
      ]
     },
     "execution_count": 166,
     "metadata": {},
     "output_type": "execute_result"
    }
   ],
   "source": [
    "x[x<3].shape"
   ]
  },
  {
   "cell_type": "code",
   "execution_count": 167,
   "id": "190bceb6-6762-467b-99c2-7f8ce9a138d1",
   "metadata": {},
   "outputs": [
    {
     "data": {
      "text/plain": [
       "array([[False, False, False,  True, False],\n",
       "       [ True,  True,  True,  True, False],\n",
       "       [ True, False,  True, False,  True],\n",
       "       [False, False,  True,  True,  True],\n",
       "       [ True, False, False,  True, False],\n",
       "       [ True,  True, False,  True, False],\n",
       "       [False, False, False, False, False],\n",
       "       [ True,  True, False, False,  True],\n",
       "       [ True,  True, False,  True, False],\n",
       "       [False, False, False, False, False]])"
      ]
     },
     "execution_count": 167,
     "metadata": {},
     "output_type": "execute_result"
    }
   ],
   "source": [
    "even_mask = (x % 2 == 0)\n",
    "even_mask"
   ]
  },
  {
   "cell_type": "code",
   "execution_count": 169,
   "id": "1fc73aab-0c6c-4142-8dd1-5534179c10a1",
   "metadata": {},
   "outputs": [
    {
     "data": {
      "text/plain": [
       "6"
      ]
     },
     "execution_count": 169,
     "metadata": {},
     "output_type": "execute_result"
    }
   ],
   "source": [
    "np.sum(even_mask & (x %3 ==0))"
   ]
  },
  {
   "cell_type": "code",
   "execution_count": 181,
   "id": "7f5a8716-1258-4011-982d-12aa51deba92",
   "metadata": {},
   "outputs": [],
   "source": [
    "x = np.array([1,2,3,4,5])"
   ]
  },
  {
   "cell_type": "code",
   "execution_count": 183,
   "id": "9265c348-8fa7-4d5e-aeeb-2e8be536a63f",
   "metadata": {},
   "outputs": [
    {
     "data": {
      "text/plain": [
       "(array([ True,  True, False, False, False]), numpy.ndarray)"
      ]
     },
     "execution_count": 183,
     "metadata": {},
     "output_type": "execute_result"
    }
   ],
   "source": [
    "x < 3, type(x)"
   ]
  },
  {
   "cell_type": "code",
   "execution_count": 180,
   "id": "d32620da-aa88-4eaa-ba89-3435e4687d78",
   "metadata": {},
   "outputs": [
    {
     "data": {
      "text/plain": [
       "array([False, False, False,  True,  True])"
      ]
     },
     "execution_count": 180,
     "metadata": {},
     "output_type": "execute_result"
    }
   ],
   "source": [
    "x > 3"
   ]
  },
  {
   "cell_type": "code",
   "execution_count": 188,
   "id": "2a512d2c-f0b8-4963-aa8c-b2e6213dbd83",
   "metadata": {},
   "outputs": [
    {
     "data": {
      "text/plain": [
       "0"
      ]
     },
     "execution_count": 188,
     "metadata": {},
     "output_type": "execute_result"
    }
   ],
   "source": [
    "np.sum((rainfall_np > 0.5) & (rainfall_np < 1))"
   ]
  },
  {
   "cell_type": "code",
   "execution_count": 189,
   "id": "4d66dfe3-9e8b-4b90-bc3d-300d0fd4642e",
   "metadata": {},
   "outputs": [
    {
     "ename": "TypeError",
     "evalue": "ufunc 'bitwise_and' not supported for the input types, and the inputs could not be safely coerced to any supported types according to the casting rule ''safe''",
     "output_type": "error",
     "traceback": [
      "\u001b[1;31m---------------------------------------------------------------------------\u001b[0m",
      "\u001b[1;31mTypeError\u001b[0m                                 Traceback (most recent call last)",
      "Cell \u001b[1;32mIn[189], line 1\u001b[0m\n\u001b[1;32m----> 1\u001b[0m rainfall_np \u001b[38;5;241m>\u001b[39m (\u001b[38;5;241;43m0.5\u001b[39;49m\u001b[43m \u001b[49m\u001b[38;5;241;43m&\u001b[39;49m\u001b[43m \u001b[49m\u001b[43mrainfall_np\u001b[49m) \u001b[38;5;241m<\u001b[39m \u001b[38;5;241m1\u001b[39m\n",
      "\u001b[1;31mTypeError\u001b[0m: ufunc 'bitwise_and' not supported for the input types, and the inputs could not be safely coerced to any supported types according to the casting rule ''safe''"
     ]
    }
   ],
   "source": [
    "rainfall_np > (0.5 & rainfall_np) < 1\n",
    "#선행규칙을 지키지 않아 에러 발생"
   ]
  },
  {
   "cell_type": "code",
   "execution_count": 190,
   "id": "6175825e-672f-402a-8c6e-c38878337bf1",
   "metadata": {},
   "outputs": [
    {
     "data": {
      "text/plain": [
       "150"
      ]
     },
     "execution_count": 190,
     "metadata": {},
     "output_type": "execute_result"
    }
   ],
   "source": [
    "np.sum(~(rainfall_np<=0.25)|(rainfall_np>=1))"
   ]
  },
  {
   "cell_type": "code",
   "execution_count": 197,
   "id": "84c66dab-6979-4c52-9663-9e596bafd3f9",
   "metadata": {},
   "outputs": [
    {
     "name": "stdout",
     "output_type": "stream",
     "text": [
      "Number days without rain:  215\n",
      "Number days with rain:  150\n",
      "Days with more than 0.5 rainfall_np:  150\n",
      "Rainy days with < 0.1 rainfall_np: 0\n"
     ]
    }
   ],
   "source": [
    "print(\"Number days without rain: \", np.sum(rainfall_np == 0))\n",
    "print(\"Number days with rain: \", np.sum(rainfall_np != 0))\n",
    "print(\"Days with more than 0.5 rainfall_np: \", np.sum(rainfall_np >0.5))\n",
    "print(\"Rainy days with < 0.1 rainfall_np:\" , np.sum((rainfall_np>0) & (rainfall_np<0.2)))"
   ]
  },
  {
   "cell_type": "code",
   "execution_count": 199,
   "id": "9fc73b5a-c6bb-440e-9e7e-2a4350736da7",
   "metadata": {},
   "outputs": [
    {
     "data": {
      "text/plain": [
       "(True, False)"
      ]
     },
     "execution_count": 199,
     "metadata": {},
     "output_type": "execute_result"
    }
   ],
   "source": [
    "bool(42), bool(0)"
   ]
  },
  {
   "cell_type": "code",
   "execution_count": 200,
   "id": "bbe3edf4",
   "metadata": {},
   "outputs": [
    {
     "data": {
      "text/plain": [
       "False"
      ]
     },
     "execution_count": 200,
     "metadata": {},
     "output_type": "execute_result"
    }
   ],
   "source": [
    "bool(42 and 0)"
   ]
  },
  {
   "cell_type": "code",
   "execution_count": 202,
   "id": "983182cd",
   "metadata": {},
   "outputs": [
    {
     "data": {
      "text/plain": [
       "True"
      ]
     },
     "execution_count": 202,
     "metadata": {},
     "output_type": "execute_result"
    }
   ],
   "source": [
    "bool(42 or 0)\n",
    "#파이썬에서는 모든 0이 아닌 정수는 다음과 같이 true로 간주"
   ]
  },
  {
   "cell_type": "markdown",
   "id": "d075dc49-e5d8-4e09-937f-96307364c8bd",
   "metadata": {},
   "source": [
    "### 펜시 인덱싱"
   ]
  },
  {
   "cell_type": "code",
   "execution_count": 207,
   "id": "c2f68a70-0f8e-41b4-8d4f-98c341083d6c",
   "metadata": {},
   "outputs": [
    {
     "name": "stdout",
     "output_type": "stream",
     "text": [
      "[51 92 14 71 60 20 82 86 74 74]\n"
     ]
    }
   ],
   "source": [
    "import numpy as np\n",
    "rand = np.random.RandomState(42)\n",
    "x  = rand.randint(100, size=10)\n",
    "print(x)"
   ]
  },
  {
   "cell_type": "code",
   "execution_count": 208,
   "id": "5fe9a71e-e3da-41ec-beeb-f8bde35492d2",
   "metadata": {},
   "outputs": [
    {
     "data": {
      "text/plain": [
       "[71, 86, 14]"
      ]
     },
     "execution_count": 208,
     "metadata": {},
     "output_type": "execute_result"
    }
   ],
   "source": [
    "[x[3],x[7],x[2]]"
   ]
  },
  {
   "cell_type": "code",
   "execution_count": 209,
   "id": "9ac21beb-efab-480d-a9b0-4f7c17f99f3a",
   "metadata": {},
   "outputs": [
    {
     "data": {
      "text/plain": [
       "array([71, 86, 60])"
      ]
     },
     "execution_count": 209,
     "metadata": {},
     "output_type": "execute_result"
    }
   ],
   "source": [
    "idx = [3,7,4]\n",
    "x[idx]"
   ]
  },
  {
   "cell_type": "code",
   "execution_count": 212,
   "id": "7a5058b8-2716-450b-aebc-3a1f2907e118",
   "metadata": {},
   "outputs": [
    {
     "data": {
      "text/plain": [
       "array([[ 0,  1,  2,  3],\n",
       "       [ 4,  5,  6,  7],\n",
       "       [ 8,  9, 10, 11]])"
      ]
     },
     "execution_count": 212,
     "metadata": {},
     "output_type": "execute_result"
    }
   ],
   "source": [
    "x = np.arange(12).reshape((3,4))\n",
    "x"
   ]
  },
  {
   "cell_type": "code",
   "execution_count": 215,
   "id": "8cb0462f-afe8-4cc9-b427-0782e2740bfa",
   "metadata": {},
   "outputs": [
    {
     "data": {
      "text/plain": [
       "array([ 2,  5, 11])"
      ]
     },
     "execution_count": 215,
     "metadata": {},
     "output_type": "execute_result"
    }
   ],
   "source": [
    "row = np.array([0,1,2])\n",
    "col = np.array([2,1,3])\n",
    "x[row, col]\n",
    "#브로드 캐스팅 규칙"
   ]
  },
  {
   "cell_type": "code",
   "execution_count": 214,
   "id": "d8ee7469-37f5-4934-bc5a-574e9fa779d5",
   "metadata": {},
   "outputs": [
    {
     "data": {
      "text/plain": [
       "array([[ 2,  1,  3],\n",
       "       [ 6,  5,  7],\n",
       "       [10,  9, 11]])"
      ]
     },
     "execution_count": 214,
     "metadata": {},
     "output_type": "execute_result"
    }
   ],
   "source": [
    "x[row[:,np.newaxis], col]"
   ]
  },
  {
   "cell_type": "code",
   "execution_count": 225,
   "id": "bb7b2b91-e206-4be5-8e67-908b16421ff0",
   "metadata": {},
   "outputs": [
    {
     "data": {
      "text/plain": [
       "array([ 1,  2,  3,  4,  5,  6,  7,  8,  9, 10])"
      ]
     },
     "execution_count": 225,
     "metadata": {},
     "output_type": "execute_result"
    }
   ],
   "source": [
    "data = np.arange(1,11)\n",
    "data"
   ]
  },
  {
   "cell_type": "code",
   "execution_count": 227,
   "id": "9bb342f7-e2d3-4b0d-902d-5e4cfb70fd06",
   "metadata": {},
   "outputs": [
    {
     "data": {
      "text/plain": [
       "(array([3, 4, 6]), numpy.ndarray)"
      ]
     },
     "execution_count": 227,
     "metadata": {},
     "output_type": "execute_result"
    }
   ],
   "source": [
    "data[[2,3,5]], type(data)"
   ]
  },
  {
   "cell_type": "code",
   "execution_count": 221,
   "id": "d86e3aa1-7c46-4901-93a1-b4a20a07d4cd",
   "metadata": {},
   "outputs": [
    {
     "data": {
      "text/plain": [
       "((3, 4),\n",
       " array([[ 0,  1,  2,  3],\n",
       "        [ 4,  5,  6,  7],\n",
       "        [ 8,  9, 10, 11]]))"
      ]
     },
     "execution_count": 221,
     "metadata": {},
     "output_type": "execute_result"
    }
   ],
   "source": [
    "data = np.arange(12).reshape(3,4)\n",
    "data.shape, data"
   ]
  },
  {
   "cell_type": "markdown",
   "id": "b0498b40-84de-49ee-b986-5a945b037265",
   "metadata": {},
   "source": [
    "## Array sort\n"
   ]
  },
  {
   "cell_type": "code",
   "execution_count": 7,
   "id": "c56fe127-352f-49e0-b9b1-09fc587f86c7",
   "metadata": {},
   "outputs": [],
   "source": [
    "import numpy as np"
   ]
  },
  {
   "cell_type": "code",
   "execution_count": 1,
   "id": "00048e33-0ff7-4ca3-9c31-a0d34525e8ff",
   "metadata": {},
   "outputs": [
    {
     "data": {
      "text/plain": [
       "[2, 3, 5, 5, 8]"
      ]
     },
     "execution_count": 1,
     "metadata": {},
     "output_type": "execute_result"
    }
   ],
   "source": [
    "lst = [3,5,2,5,8]\n",
    "sorted(lst)"
   ]
  },
  {
   "cell_type": "code",
   "execution_count": 2,
   "id": "5ad0090e-ddf6-4da3-bc67-7136aa6ce08c",
   "metadata": {},
   "outputs": [
    {
     "data": {
      "text/plain": [
       "(None, [2, 3, 5, 5, 8])"
      ]
     },
     "execution_count": 2,
     "metadata": {},
     "output_type": "execute_result"
    }
   ],
   "source": [
    "lst.sort(), lst"
   ]
  },
  {
   "cell_type": "code",
   "execution_count": 8,
   "id": "b62c023a-ced4-449a-a07c-ade76330b7e0",
   "metadata": {},
   "outputs": [
    {
     "data": {
      "text/plain": [
       "array([3, 2, 4, 5, 2])"
      ]
     },
     "execution_count": 8,
     "metadata": {},
     "output_type": "execute_result"
    }
   ],
   "source": [
    "data = np.array([3,2,4,5,2])\n",
    "np.sort(data)\n",
    "data"
   ]
  },
  {
   "cell_type": "code",
   "execution_count": 9,
   "id": "7064c9ba-75e7-46ef-991d-267adfbe5d8d",
   "metadata": {},
   "outputs": [
    {
     "data": {
      "text/plain": [
       "array([[6, 6, 7, 9, 7, 6, 2, 8, 8, 5],\n",
       "       [9, 7, 1, 5, 2, 9, 8, 1, 7, 5],\n",
       "       [2, 3, 6, 7, 2, 2, 1, 6, 3, 7],\n",
       "       [5, 3, 3, 1, 8, 4, 6, 1, 0, 6],\n",
       "       [5, 1, 4, 5, 6, 2, 1, 0, 8, 7],\n",
       "       [0, 5, 8, 0, 6, 9, 7, 8, 3, 1],\n",
       "       [7, 4, 3, 1, 1, 1, 2, 2, 8, 6],\n",
       "       [8, 2, 0, 2, 9, 3, 1, 7, 8, 7],\n",
       "       [7, 1, 2, 2, 7, 7, 9, 2, 1, 5],\n",
       "       [6, 6, 6, 5, 2, 3, 2, 2, 8, 0],\n",
       "       [6, 0, 1, 3, 8, 8, 5, 1, 3, 9],\n",
       "       [6, 5, 8, 2, 1, 5, 3, 3, 2, 3],\n",
       "       [3, 2, 6, 8, 4, 5, 4, 5, 3, 0],\n",
       "       [0, 3, 5, 8, 8, 4, 6, 1, 5, 9],\n",
       "       [6, 2, 8, 3, 7, 6, 0, 1, 8, 1],\n",
       "       [9, 5, 2, 9, 4, 0, 3, 3, 9, 5]])"
      ]
     },
     "execution_count": 9,
     "metadata": {},
     "output_type": "execute_result"
    }
   ],
   "source": [
    "output = np.random.randint(0,10,(16,10))\n",
    "output"
   ]
  },
  {
   "cell_type": "code",
   "execution_count": 10,
   "id": "0ec49780-9ab6-4419-a01f-b2b538135fe0",
   "metadata": {},
   "outputs": [
    {
     "data": {
      "text/plain": [
       "array([[6, 9, 0, 1, 5, 2, 4, 7, 8, 3],\n",
       "       [2, 7, 4, 3, 9, 1, 8, 6, 0, 5],\n",
       "       [6, 0, 4, 5, 1, 8, 2, 7, 3, 9],\n",
       "       [8, 3, 7, 1, 2, 5, 0, 6, 9, 4],\n",
       "       [7, 1, 6, 5, 2, 0, 3, 4, 9, 8],\n",
       "       [0, 3, 9, 8, 1, 4, 6, 2, 7, 5],\n",
       "       [3, 4, 5, 6, 7, 2, 1, 9, 0, 8],\n",
       "       [2, 6, 1, 3, 5, 7, 9, 0, 8, 4],\n",
       "       [1, 8, 2, 3, 7, 9, 0, 4, 5, 6],\n",
       "       [9, 4, 6, 7, 5, 3, 0, 1, 2, 8],\n",
       "       [1, 2, 7, 3, 8, 6, 0, 4, 5, 9],\n",
       "       [4, 3, 8, 6, 7, 9, 1, 5, 0, 2],\n",
       "       [9, 1, 0, 8, 4, 6, 5, 7, 2, 3],\n",
       "       [0, 7, 1, 5, 2, 8, 6, 3, 4, 9],\n",
       "       [6, 7, 9, 1, 3, 0, 5, 4, 2, 8],\n",
       "       [5, 2, 6, 7, 4, 1, 9, 0, 3, 8]], dtype=int64)"
      ]
     },
     "execution_count": 10,
     "metadata": {},
     "output_type": "execute_result"
    }
   ],
   "source": [
    "predict = np.argsort(output, axis=1)\n",
    "predict"
   ]
  }
 ],
 "metadata": {
  "kernelspec": {
   "display_name": "Python 3 (ipykernel)",
   "language": "python",
   "name": "python3"
  }
 },
 "nbformat": 4,
 "nbformat_minor": 5
}
